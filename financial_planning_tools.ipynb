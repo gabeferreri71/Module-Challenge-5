{
 "cells": [
  {
   "cell_type": "markdown",
   "metadata": {},
   "source": [
    "# Financial Planning with APIs and Simulations\n",
    "\n",
    "In this Challenge, you’ll create two financial analysis tools by using a single Jupyter notebook:\n",
    "\n",
    "Part 1: A financial planner for emergencies. The members will be able to use this tool to visualize their current savings. The members can then determine if they have enough reserves for an emergency fund.\n",
    "\n",
    "Part 2: A financial planner for retirement. This tool will forecast the performance of their retirement portfolio in 30 years. To do this, the tool will make an Alpaca API call via the Alpaca SDK to get historical price data for use in Monte Carlo simulations.\n",
    "\n",
    "You’ll use the information from the Monte Carlo simulation to answer questions about the portfolio in your Jupyter notebook.\n",
    "\n"
   ]
  },
  {
   "cell_type": "code",
   "execution_count": 176,
   "metadata": {},
   "outputs": [],
   "source": [
    "# seven imports plus matplotlib\n",
    "import os\n",
    "import requests\n",
    "import json\n",
    "import pandas as pd\n",
    "from dotenv import load_dotenv\n",
    "import alpaca_trade_api as tradeapi\n",
    "from MCForecastTools import MCSimulation\n",
    "\n",
    "%matplotlib inline"
   ]
  },
  {
   "cell_type": "code",
   "execution_count": 177,
   "metadata": {},
   "outputs": [
    {
     "data": {
      "text/plain": [
       "True"
      ]
     },
     "execution_count": 177,
     "metadata": {},
     "output_type": "execute_result"
    }
   ],
   "source": [
    "#calling the load_dotenv function\n",
    "load_dotenv()"
   ]
  },
  {
   "cell_type": "markdown",
   "metadata": {},
   "source": [
    "## Part 1: Create a Financial Planner for Emergencies"
   ]
  },
  {
   "cell_type": "markdown",
   "metadata": {},
   "source": [
    "### Evaluate the Cryptocurrency Wallet by Using the Requests Library\n",
    "\n",
    "In this section, you’ll determine the current value of a member’s cryptocurrency wallet. You’ll collect the current prices for the Bitcoin and Ethereum cryptocurrencies by using the Python Requests library. For the prototype, you’ll assume that the member holds the 1.2 Bitcoins (BTC) and 5.3 Ethereum coins (ETH). To do all this, complete the following steps:\n",
    "\n",
    "1. Create a variable named `monthly_income`, and set its value to `12000`.\n",
    "\n",
    "2. Use the Requests library to get the current price (in US dollars) of Bitcoin (BTC) and Ethereum (ETH) by using the API endpoints that the starter code supplies.\n",
    "\n",
    "3. Navigate the JSON response object to access the current price of each coin, and store each in a variable.\n",
    "\n",
    "    > **Hint** Note the specific identifier for each cryptocurrency in the API JSON response. The Bitcoin identifier is `1`, and the Ethereum identifier is `1027`.\n",
    "\n",
    "4. Calculate the value, in US dollars, of the current amount of each cryptocurrency and of the entire cryptocurrency wallet.\n",
    "\n"
   ]
  },
  {
   "cell_type": "code",
   "execution_count": 178,
   "metadata": {},
   "outputs": [],
   "source": [
    "# The current number of coins for each cryptocurrency asset held in the portfolio.\n",
    "btc_coins = 1.2\n",
    "eth_coins = 5.3"
   ]
  },
  {
   "cell_type": "markdown",
   "metadata": {},
   "source": [
    "#### Step 1: Create a variable named `monthly_income`, and set its value to `12000`."
   ]
  },
  {
   "cell_type": "code",
   "execution_count": 179,
   "metadata": {},
   "outputs": [],
   "source": [
    "# The monthly amount for the member's household income\n",
    "monthly_income = 12000 "
   ]
  },
  {
   "cell_type": "markdown",
   "metadata": {},
   "source": [
    "#### Review the endpoint URLs for the API calls to Free Crypto API in order to get the current pricing information for both BTC and ETH."
   ]
  },
  {
   "cell_type": "code",
   "execution_count": 180,
   "metadata": {},
   "outputs": [],
   "source": [
    "# The Free Crypto API Call endpoint URLs for the held cryptocurrency assets\n",
    "btc_url = \"https://api.alternative.me/v2/ticker/Bitcoin/?convert=USD\"\n",
    "eth_url = \"https://api.alternative.me/v2/ticker/Ethereum/?convert=USD\""
   ]
  },
  {
   "cell_type": "markdown",
   "metadata": {},
   "source": [
    "#### Step 2. Use the Requests library to get the current price (in US dollars) of Bitcoin (BTC) and Ethereum (ETH) by using the API endpoints that the starter code supplied."
   ]
  },
  {
   "cell_type": "code",
   "execution_count": 181,
   "metadata": {},
   "outputs": [
    {
     "name": "stdout",
     "output_type": "stream",
     "text": [
      "{\n",
      "  \"data\": {\n",
      "    \"1\": {\n",
      "      \"circulating_supply\": 18944068,\n",
      "      \"id\": 1,\n",
      "      \"last_updated\": 1643548643,\n",
      "      \"max_supply\": 21000000,\n",
      "      \"name\": \"Bitcoin\",\n",
      "      \"quotes\": {\n",
      "        \"USD\": {\n",
      "          \"market_cap\": 719310463012,\n",
      "          \"percent_change_1h\": -0.326900848518749,\n",
      "          \"percent_change_24h\": 0.315033933610035,\n",
      "          \"percent_change_7d\": 7.89349620541629,\n",
      "          \"percentage_change_1h\": -0.326900848518749,\n",
      "          \"percentage_change_24h\": 0.315033933610035,\n",
      "          \"percentage_change_7d\": 7.89349620541629,\n",
      "          \"price\": 37957.0,\n",
      "          \"volume_24h\": 13668796810\n",
      "        }\n",
      "      },\n",
      "      \"rank\": 1,\n",
      "      \"symbol\": \"BTC\",\n",
      "      \"total_supply\": 18944068,\n",
      "      \"website_slug\": \"bitcoin\"\n",
      "    }\n",
      "  },\n",
      "  \"metadata\": {\n",
      "    \"error\": null,\n",
      "    \"num_cryptocurrencies\": 3105,\n",
      "    \"timestamp\": 1643548643\n",
      "  }\n",
      "}\n"
     ]
    }
   ],
   "source": [
    "#requests.get used with json() on btc_call to get btc_response\n",
    "btc_call = btc_url \n",
    "btc_response = requests.get(btc_call).json()\n",
    "#json.dumps used to review data in a readable format with indent and sort_keys parameters\n",
    "print(json.dumps(btc_response, indent=2, sort_keys=True))\n",
    "\n"
   ]
  },
  {
   "cell_type": "code",
   "execution_count": 7,
   "metadata": {},
   "outputs": [
    {
     "name": "stdout",
     "output_type": "stream",
     "text": [
      "{\n",
      "  \"data\": {\n",
      "    \"1027\": {\n",
      "      \"circulating_supply\": 119349887,\n",
      "      \"id\": 1027,\n",
      "      \"last_updated\": 1643398152,\n",
      "      \"max_supply\": 0,\n",
      "      \"name\": \"Ethereum\",\n",
      "      \"quotes\": {\n",
      "        \"USD\": {\n",
      "          \"market_cap\": 293477222023,\n",
      "          \"percent_change_1h\": -0.420462360148642,\n",
      "          \"percent_change_24h\": 1.40867618276121,\n",
      "          \"percent_change_7d\": -18.5615949811895,\n",
      "          \"percentage_change_1h\": -0.420462360148642,\n",
      "          \"percentage_change_24h\": 1.40867618276121,\n",
      "          \"percentage_change_7d\": -18.5615949811895,\n",
      "          \"price\": 2455.85,\n",
      "          \"volume_24h\": 15333487808\n",
      "        }\n",
      "      },\n",
      "      \"rank\": 2,\n",
      "      \"symbol\": \"ETH\",\n",
      "      \"total_supply\": 119349887,\n",
      "      \"website_slug\": \"ethereum\"\n",
      "    }\n",
      "  },\n",
      "  \"metadata\": {\n",
      "    \"error\": null,\n",
      "    \"num_cryptocurrencies\": 3105,\n",
      "    \"timestamp\": 1643398152\n",
      "  }\n",
      "}\n"
     ]
    }
   ],
   "source": [
    "#same process as above\n",
    "eth_call = eth_url \n",
    "eth_response = requests.get(eth_call).json()\n",
    "print(json.dumps(eth_response, indent=2, sort_keys=True))\n"
   ]
  },
  {
   "cell_type": "markdown",
   "metadata": {},
   "source": [
    "#### Step 3: Navigate the JSON response object to access the current price of each coin, and store each in a variable."
   ]
  },
  {
   "cell_type": "code",
   "execution_count": 259,
   "metadata": {},
   "outputs": [
    {
     "name": "stdout",
     "output_type": "stream",
     "text": [
      "Current BTC price: $37957.0\n"
     ]
    }
   ],
   "source": [
    "# Navigating btc_response object (going through 5 levels)\n",
    "btc_price = btc_response[\"data\"][\"1\"][\"quotes\"][\"USD\"][\"price\"]   \n",
    "\n",
    "print(f\"Current BTC price: ${btc_price}\") \n"
   ]
  },
  {
   "cell_type": "code",
   "execution_count": 260,
   "metadata": {},
   "outputs": [
    {
     "name": "stdout",
     "output_type": "stream",
     "text": [
      "Current ETH price: $2455.85\n"
     ]
    }
   ],
   "source": [
    "# Navigating eth_response object in similar fashion\n",
    "eth_price = eth_response[\"data\"][\"1027\"][\"quotes\"][\"USD\"][\"price\"]\n",
    "\n",
    "print(f\"Current ETH price: ${eth_price}\") \n",
    "\n"
   ]
  },
  {
   "cell_type": "markdown",
   "metadata": {},
   "source": [
    "### Step 4: Calculate the value, in US dollars, of the current amount of each cryptocurrency and of the entire cryptocurrency wallet."
   ]
  },
  {
   "cell_type": "code",
   "execution_count": 268,
   "metadata": {},
   "outputs": [
    {
     "name": "stdout",
     "output_type": "stream",
     "text": [
      "Current BTC Holdings Value: $45548.4.\n"
     ]
    }
   ],
   "source": [
    "# Computing current value of the BTC holdings \n",
    "btc_value = btc_coins*btc_price\n",
    "print(f\"Current BTC Holdings Value: ${round(btc_value, 2)}.\")  \n"
   ]
  },
  {
   "cell_type": "code",
   "execution_count": 269,
   "metadata": {},
   "outputs": [
    {
     "name": "stdout",
     "output_type": "stream",
     "text": [
      "Current ETH Holdings Value: $13016.0.\n"
     ]
    }
   ],
   "source": [
    "# Computing current value of the ETH holdings \n",
    "eth_value = eth_coins * eth_price\n",
    "print(f\"Current ETH Holdings Value: ${round(eth_value, 2)}.\") \n",
    "\n"
   ]
  },
  {
   "cell_type": "code",
   "execution_count": 270,
   "metadata": {},
   "outputs": [
    {
     "name": "stdout",
     "output_type": "stream",
     "text": [
      "The total crypto wallet is valued at $58564.4.\n"
     ]
    }
   ],
   "source": [
    "# add the holdings and print\n",
    "total_crypto_wallet = btc_value + eth_value\n",
    " \n",
    "print(f\"The total crypto wallet is valued at ${round(total_crypto_wallet, 2)}.\")\n",
    "\n"
   ]
  },
  {
   "cell_type": "markdown",
   "metadata": {},
   "source": [
    "### Evaluate the Stock and Bond Holdings by Using the Alpaca SDK\n",
    "\n",
    "In this section, you’ll determine the current value of a member’s stock and bond holdings. You’ll make an API call to Alpaca via the Alpaca SDK to get the current closing prices of the SPDR S&P 500 ETF Trust (ticker: SPY) and of the iShares Core US Aggregate Bond ETF (ticker: AGG). For the prototype, assume that the member holds 110 shares of SPY, which represents the stock portion of their portfolio, and 200 shares of AGG, which represents the bond portion. To do all this, complete the following steps:\n",
    "\n",
    "1. In the `Starter_Code` folder, create an environment file (`.env`) to store the values of your Alpaca API key and Alpaca secret key.\n",
    "\n",
    "2. Set the variables for the Alpaca API and secret keys. Using the Alpaca SDK, create the Alpaca `tradeapi.REST` object. In this object, include the parameters for the Alpaca API key, the secret key, and the version number.\n",
    "\n",
    "3. Set the following parameters for the Alpaca API call:\n",
    "\n",
    "    - `tickers`: Use the tickers for the member’s stock and bond holdings.\n",
    "\n",
    "    - `timeframe`: Use a time frame of one day.\n",
    "\n",
    "    - `start_date` and `end_date`: Use the same date for these parameters, and format them with the date of the previous weekday (or `2020-08-07`). This is because you want the one closing price for the most-recent trading day.\n",
    "\n",
    "4. Get the current closing prices for `SPY` and `AGG` by using the Alpaca `get_barset` function. Format the response as a Pandas DataFrame by including the `df` property at the end of the `get_barset` function.\n",
    "\n",
    "5. Navigating the Alpaca response DataFrame, select the `SPY` and `AGG` closing prices, and store them as variables.\n",
    "\n",
    "6. Calculate the value, in US dollars, of the current amount of shares in each of the stock and bond portions of the portfolio, and print the results.\n"
   ]
  },
  {
   "cell_type": "markdown",
   "metadata": {},
   "source": [
    "#### Review the total number of shares held in both (SPY) and (AGG)."
   ]
  },
  {
   "cell_type": "code",
   "execution_count": 13,
   "metadata": {},
   "outputs": [],
   "source": [
    "# Current amount of shares held in both the stock (SPY) and bond (AGG) portion of the portfolio.\n",
    "spy_shares = 110\n",
    "agg_shares = 200\n"
   ]
  },
  {
   "cell_type": "markdown",
   "metadata": {},
   "source": [
    "#### Step 1: In the `Starter_Code` folder, create an environment file (`.env`) to store the values of your Alpaca API key and Alpaca secret key."
   ]
  },
  {
   "cell_type": "markdown",
   "metadata": {},
   "source": [
    "#### Step 2: Set the variables for the Alpaca API and secret keys. Using the Alpaca SDK, create the Alpaca `tradeapi.REST` object. In this object, include the parameters for the Alpaca API key, the secret key, and the version number."
   ]
  },
  {
   "cell_type": "code",
   "execution_count": 16,
   "metadata": {},
   "outputs": [
    {
     "data": {
      "text/plain": [
       "str"
      ]
     },
     "metadata": {},
     "output_type": "display_data"
    },
    {
     "data": {
      "text/plain": [
       "str"
      ]
     },
     "metadata": {},
     "output_type": "display_data"
    }
   ],
   "source": [
    "# verifying keys and displaying type\n",
    "alpaca_api_key = os.getenv(\"alpaca_api\") \n",
    "alpaca_secret_key = os.getenv(\"alpaca_secret\")\n",
    "\n",
    "display(type(alpaca_api_key)) \n",
    "display(type(alpaca_secret_key))\n",
    "# Creating the Alpaca tradeapi.REST object\n",
    "alpaca = tradeapi.REST(\n",
    "    alpaca_api_key,\n",
    "    alpaca_secret_key,\n",
    "    api_version=\"v2\") "
   ]
  },
  {
   "cell_type": "markdown",
   "metadata": {},
   "source": [
    "#### Step 3: Set the following parameters for the Alpaca API call:\n",
    "\n",
    "- `tickers`: Use the tickers for the member’s stock and bond holdings.\n",
    "\n",
    "- `timeframe`: Use a time frame of one day.\n",
    "\n",
    "- `start_date` and `end_date`: Use the same date for these parameters, and format them with the date of the previous weekday (or `2020-08-07`). This is because you want the one closing price for the most-recent trading day.\n"
   ]
  },
  {
   "cell_type": "code",
   "execution_count": 26,
   "metadata": {},
   "outputs": [
    {
     "name": "stdout",
     "output_type": "stream",
     "text": [
      "     shares\n",
      "SPY     110\n",
      "AGG     200\n"
     ]
    }
   ],
   "source": [
    "# list and tickers created followed by dataframe creation \n",
    "shares_data = {\n",
    "    \"shares\":[spy_shares, agg_shares]\n",
    "} \n",
    "   \n",
    "tickers = [\"SPY\", \"AGG\"] \n",
    "portfolio_df = pd.DataFrame(shares_data, index = tickers)\n",
    "print(portfolio_df)\n",
    "# timeframe set\n",
    "timeframe = \"1D\" \n",
    "# analyzing timestamp for one day with .isoformat()\n",
    "start_date = pd.Timestamp(\"2022-01-27\", tz = \"America/New_York\").isoformat() \n",
    "end_date = pd.Timestamp(\"2022-01-27\", tz = \"America/New_York\").isoformat() "
   ]
  },
  {
   "cell_type": "markdown",
   "metadata": {},
   "source": [
    "#### Step 4: Get the current closing prices for `SPY` and `AGG` by using the Alpaca `get_barset` function. Format the response as a Pandas DataFrame by including the `df` property at the end of the `get_barset` function."
   ]
  },
  {
   "cell_type": "code",
   "execution_count": 190,
   "metadata": {},
   "outputs": [
    {
     "data": {
      "text/html": [
       "<div>\n",
       "<style scoped>\n",
       "    .dataframe tbody tr th:only-of-type {\n",
       "        vertical-align: middle;\n",
       "    }\n",
       "\n",
       "    .dataframe tbody tr th {\n",
       "        vertical-align: top;\n",
       "    }\n",
       "\n",
       "    .dataframe thead tr th {\n",
       "        text-align: left;\n",
       "    }\n",
       "\n",
       "    .dataframe thead tr:last-of-type th {\n",
       "        text-align: right;\n",
       "    }\n",
       "</style>\n",
       "<table border=\"1\" class=\"dataframe\">\n",
       "  <thead>\n",
       "    <tr>\n",
       "      <th></th>\n",
       "      <th colspan=\"5\" halign=\"left\">AGG</th>\n",
       "      <th colspan=\"5\" halign=\"left\">SPY</th>\n",
       "    </tr>\n",
       "    <tr>\n",
       "      <th></th>\n",
       "      <th>open</th>\n",
       "      <th>high</th>\n",
       "      <th>low</th>\n",
       "      <th>close</th>\n",
       "      <th>volume</th>\n",
       "      <th>open</th>\n",
       "      <th>high</th>\n",
       "      <th>low</th>\n",
       "      <th>close</th>\n",
       "      <th>volume</th>\n",
       "    </tr>\n",
       "    <tr>\n",
       "      <th>time</th>\n",
       "      <th></th>\n",
       "      <th></th>\n",
       "      <th></th>\n",
       "      <th></th>\n",
       "      <th></th>\n",
       "      <th></th>\n",
       "      <th></th>\n",
       "      <th></th>\n",
       "      <th></th>\n",
       "      <th></th>\n",
       "    </tr>\n",
       "  </thead>\n",
       "  <tbody>\n",
       "    <tr>\n",
       "      <th>2022-01-27 00:00:00-05:00</th>\n",
       "      <td>111.62</td>\n",
       "      <td>111.88</td>\n",
       "      <td>111.62</td>\n",
       "      <td>111.72</td>\n",
       "      <td>5836124</td>\n",
       "      <td>438.26</td>\n",
       "      <td>441.58</td>\n",
       "      <td>429.45</td>\n",
       "      <td>431.27</td>\n",
       "      <td>136251597</td>\n",
       "    </tr>\n",
       "  </tbody>\n",
       "</table>\n",
       "</div>"
      ],
      "text/plain": [
       "                              AGG                                      SPY  \\\n",
       "                             open    high     low   close   volume    open   \n",
       "time                                                                         \n",
       "2022-01-27 00:00:00-05:00  111.62  111.88  111.62  111.72  5836124  438.26   \n",
       "\n",
       "                                                              \n",
       "                             high     low   close     volume  \n",
       "time                                                          \n",
       "2022-01-27 00:00:00-05:00  441.58  429.45  431.27  136251597  "
      ]
     },
     "execution_count": 190,
     "metadata": {},
     "output_type": "execute_result"
    }
   ],
   "source": [
    "# Using get_barset and .df on alpaca variable to create dataframe\n",
    "portfolio_prices_df = alpaca.get_barset(\n",
    "    tickers,\n",
    "    timeframe,\n",
    "    start = start_date,\n",
    "    end = end_date\n",
    ").df\n",
    "\n",
    "portfolio_prices_df.head()"
   ]
  },
  {
   "cell_type": "markdown",
   "metadata": {},
   "source": [
    "#### Step 5: Navigating the Alpaca response DataFrame, select the `SPY` and `AGG` closing prices, and store them as variables."
   ]
  },
  {
   "cell_type": "code",
   "execution_count": 272,
   "metadata": {},
   "outputs": [
    {
     "name": "stdout",
     "output_type": "stream",
     "text": [
      "$111.72\n"
     ]
    }
   ],
   "source": [
    "# getting close price as floats and printing\n",
    "agg_close_price = float(portfolio_prices_df[\"AGG\"][\"close\"]) \n",
    "print(f\"${agg_close_price}\")\n",
    "\n",
    "\n"
   ]
  },
  {
   "cell_type": "code",
   "execution_count": 271,
   "metadata": {},
   "outputs": [
    {
     "name": "stdout",
     "output_type": "stream",
     "text": [
      "$431.27\n"
     ]
    }
   ],
   "source": [
    "# getting spy close price as floats and printing\n",
    "spy_close_price = float(portfolio_prices_df[\"SPY\"][\"close\"]) \n",
    "print(f\"${spy_close_price}\")\n",
    "\n",
    "\n"
   ]
  },
  {
   "cell_type": "markdown",
   "metadata": {},
   "source": [
    "#### Step 6: Calculate the value, in US dollars, of the current amount of shares in each of the stock and bond portions of the portfolio, and print the results."
   ]
  },
  {
   "cell_type": "code",
   "execution_count": 273,
   "metadata": {},
   "outputs": [
    {
     "name": "stdout",
     "output_type": "stream",
     "text": [
      "AGG Value: $22344.0\n"
     ]
    }
   ],
   "source": [
    "# Close price * AGG shares\n",
    "# note we can also just do agg_close_price* agg_shares too\n",
    "agg_value = agg_close_price * portfolio_df.loc[\"AGG\"][\"shares\"]  \n",
    "print(f\"AGG Value: ${round(agg_value, 2)}\") \n",
    "\n"
   ]
  },
  {
   "cell_type": "code",
   "execution_count": 274,
   "metadata": {},
   "outputs": [
    {
     "name": "stdout",
     "output_type": "stream",
     "text": [
      "SPY Value: $47439.7\n"
     ]
    }
   ],
   "source": [
    "# close price * SPY shares\n",
    "spy_value = spy_close_price * portfolio_df.loc[\"SPY\"][\"shares\"]\n",
    "print(f\"SPY Value: ${round(spy_value, 2)}\") \n",
    "\n"
   ]
  },
  {
   "cell_type": "code",
   "execution_count": 275,
   "metadata": {},
   "outputs": [
    {
     "name": "stdout",
     "output_type": "stream",
     "text": [
      "Total stock/bond portfolio: $69783.7\n"
     ]
    }
   ],
   "source": [
    "# agg_value + spy_value\n",
    "total_stocks_bonds = agg_value + spy_value\n",
    "print(f\"Total stock/bond portfolio: ${total_stocks_bonds}\")\n",
    "\n"
   ]
  },
  {
   "cell_type": "code",
   "execution_count": 277,
   "metadata": {},
   "outputs": [
    {
     "name": "stdout",
     "output_type": "stream",
     "text": [
      "Total Portfolio value: $128348.1\n"
     ]
    }
   ],
   "source": [
    "# finding total porfolio amount \n",
    "total_portfolio = total_stocks_bonds + total_crypto_wallet\n",
    "print(f\"Total Portfolio value: ${round(total_portfolio, 2)}\")\n"
   ]
  },
  {
   "cell_type": "markdown",
   "metadata": {},
   "source": [
    "### Evaluate the Emergency Fund\n",
    "\n",
    "In this section, you’ll use the valuations for the cryptocurrency wallet and for the stock and bond portions of the portfolio to determine if the credit union member has enough savings to build an emergency fund into their financial plan. To do this, complete the following steps:\n",
    "\n",
    "1. Create a Python list named `savings_data` that has two elements. The first element contains the total value of the cryptocurrency wallet. The second element contains the total value of the stock and bond portions of the portfolio.\n",
    "\n",
    "2. Use the `savings_data` list to create a Pandas DataFrame named `savings_df`, and then display this DataFrame. The function to create the DataFrame should take the following three parameters:\n",
    "\n",
    "    - `savings_data`: Use the list that you just created.\n",
    "\n",
    "    - `columns`: Set this parameter equal to a Python list with a single value called `amount`.\n",
    "\n",
    "    - `index`: Set this parameter equal to a Python list with the values of `crypto` and `stock/bond`.\n",
    "\n",
    "3. Use the `savings_df` DataFrame to plot a pie chart that visualizes the composition of the member’s portfolio. The y-axis of the pie chart uses `amount`. Be sure to add a title.\n",
    "\n",
    "4. Using Python, determine if the current portfolio has enough to create an emergency fund as part of the member’s financial plan. Ideally, an emergency fund should equal to three times the member’s monthly income. To do this, implement the following steps:\n",
    "\n",
    "    1. Create a variable named `emergency_fund_value`, and set it equal to three times the value of the member’s `monthly_income` of $12000. (You set this earlier in Part 1).\n",
    "\n",
    "    2. Create a series of three if statements to determine if the member’s total portfolio is large enough to fund the emergency portfolio:\n",
    "\n",
    "        1. If the total portfolio value is greater than the emergency fund value, display a message congratulating the member for having enough money in this fund.\n",
    "\n",
    "        2. Else if the total portfolio value is equal to the emergency fund value, display a message congratulating the member on reaching this important financial goal.\n",
    "\n",
    "        3. Else the total portfolio is less than the emergency fund value, so display a message showing how many dollars away the member is from reaching the goal. (Subtract the total portfolio value from the emergency fund value.)\n"
   ]
  },
  {
   "cell_type": "markdown",
   "metadata": {},
   "source": [
    "#### Step 1: Create a Python list named `savings_data` that has two elements. The first element contains the total value of the cryptocurrency wallet. The second element contains the total value of the stock and bond portions of the portfolio."
   ]
  },
  {
   "cell_type": "code",
   "execution_count": 219,
   "metadata": {},
   "outputs": [
    {
     "data": {
      "text/plain": [
       "{'Portfolio Wallets': [58564.405, 69783.7]}"
      ]
     },
     "execution_count": 219,
     "metadata": {},
     "output_type": "execute_result"
    }
   ],
   "source": [
    "# financial assets data in a Python list\n",
    "savings_data = {\n",
    "    \"Portfolio Wallets\": [total_crypto_wallet, total_stocks_bonds]\n",
    "} \n",
    "\n",
    "savings_data\n",
    "\n",
    "    "
   ]
  },
  {
   "cell_type": "markdown",
   "metadata": {},
   "source": [
    "#### Step 2: Use the `savings_data` list to create a Pandas DataFrame named `savings_df`, and then display this DataFrame. The function to create the DataFrame should take the following three parameters:\n",
    "\n",
    "- `savings_data`: Use the list that you just created.\n",
    "\n",
    "- `columns`: Set this parameter equal to a Python list with a single value called `amount`.\n",
    "\n",
    "- `index`: Set this parameter equal to a Python list with the values of `crypto` and `stock/bond`.\n"
   ]
  },
  {
   "cell_type": "code",
   "execution_count": 220,
   "metadata": {},
   "outputs": [
    {
     "data": {
      "text/html": [
       "<div>\n",
       "<style scoped>\n",
       "    .dataframe tbody tr th:only-of-type {\n",
       "        vertical-align: middle;\n",
       "    }\n",
       "\n",
       "    .dataframe tbody tr th {\n",
       "        vertical-align: top;\n",
       "    }\n",
       "\n",
       "    .dataframe thead th {\n",
       "        text-align: right;\n",
       "    }\n",
       "</style>\n",
       "<table border=\"1\" class=\"dataframe\">\n",
       "  <thead>\n",
       "    <tr style=\"text-align: right;\">\n",
       "      <th></th>\n",
       "      <th>Portfolio Wallets</th>\n",
       "    </tr>\n",
       "  </thead>\n",
       "  <tbody>\n",
       "    <tr>\n",
       "      <th>Crypto Value ($USD)</th>\n",
       "      <td>58564.4</td>\n",
       "    </tr>\n",
       "    <tr>\n",
       "      <th>Stock/Bonds Value ($USD)</th>\n",
       "      <td>69783.7</td>\n",
       "    </tr>\n",
       "  </tbody>\n",
       "</table>\n",
       "</div>"
      ],
      "text/plain": [
       "                          Portfolio Wallets\n",
       "Crypto Value ($USD)                 58564.4\n",
       "Stock/Bonds Value ($USD)            69783.7"
      ]
     },
     "execution_count": 220,
     "metadata": {},
     "output_type": "execute_result"
    }
   ],
   "source": [
    "# wallet_tickers made \n",
    "# dataframe created with savings_data and index parameters\n",
    "wallet_tickers = [\"Crypto Value ($USD)\", \"Stock/Bonds Value ($USD)\"]\n",
    "savings_df = pd.DataFrame(savings_data, index = wallet_tickers) \n",
    "\n",
    "round(savings_df,2) \n",
    "\n"
   ]
  },
  {
   "cell_type": "markdown",
   "metadata": {},
   "source": [
    "#### Step 3: Use the `savings_df` DataFrame to plot a pie chart that visualizes the composition of the member’s portfolio. The y-axis of the pie chart uses `amount`. Be sure to add a title."
   ]
  },
  {
   "cell_type": "code",
   "execution_count": 221,
   "metadata": {},
   "outputs": [
    {
     "data": {
      "text/plain": [
       "<AxesSubplot:title={'center':'Portfolio Composition'}, ylabel='Portfolio Wallets'>"
      ]
     },
     "execution_count": 221,
     "metadata": {},
     "output_type": "execute_result"
    },
    {
     "data": {
      "image/png": "[encoded data removed]",
      "text/plain": [
       "<Figure size 432x288 with 1 Axes>"
      ]
     },
     "metadata": {},
     "output_type": "display_data"
    }
   ],
   "source": [
    "# y = 'Portfolio Wallets' is key input with plot.pie\n",
    "savings_df.plot.pie(y = 'Portfolio Wallets', title = 'Portfolio Composition')"
   ]
  },
  {
   "cell_type": "markdown",
   "metadata": {},
   "source": [
    "#### Step 4: Using Python, determine if the current portfolio has enough to create an emergency fund as part of the member’s financial plan. Ideally, an emergency fund should equal to three times the member’s monthly income. To do this, implement the following steps:\n",
    "\n",
    "Step 1. Create a variable named `emergency_fund_value`, and set it equal to three times the value of the member’s `monthly_income` of 12000. (You set this earlier in Part 1).\n",
    "\n",
    "Step 2. Create a series of three if statements to determine if the member’s total portfolio is large enough to fund the emergency portfolio:\n",
    "\n",
    "* If the total portfolio value is greater than the emergency fund value, display a message congratulating the member for having enough money in this fund.\n",
    "\n",
    "* Else if the total portfolio value is equal to the emergency fund value, display a message congratulating the member on reaching this important financial goal.\n",
    "\n",
    "* Else the total portfolio is less than the emergency fund value, so display a message showing how many dollars away the member is from reaching the goal. (Subtract the total portfolio value from the emergency fund value.)\n"
   ]
  },
  {
   "cell_type": "markdown",
   "metadata": {},
   "source": [
    "##### Step 4-1: Create a variable named `emergency_fund_value`, and set it equal to three times the value of the member’s `monthly_income` of 12000. (You set this earlier in Part 1)."
   ]
  },
  {
   "cell_type": "code",
   "execution_count": 54,
   "metadata": {},
   "outputs": [],
   "source": [
    "# emergency fund created\n",
    "emergency_fund_value = monthly_income * 3"
   ]
  },
  {
   "cell_type": "markdown",
   "metadata": {},
   "source": [
    "##### Step 4-2: Create a series of three if statements to determine if the member’s total portfolio is large enough to fund the emergency portfolio:\n",
    "\n",
    "* If the total portfolio value is greater than the emergency fund value, display a message congratulating the member for having enough money in this fund.\n",
    "\n",
    "* Else if the total portfolio value is equal to the emergency fund value, display a message congratulating the member on reaching this important financial goal.\n",
    "\n",
    "* Else the total portfolio is less than the emergency fund value, so display a message showing how many dollars away the member is from reaching the goal. (Subtract the total portfolio value from the emergency fund value.)"
   ]
  },
  {
   "cell_type": "code",
   "execution_count": 53,
   "metadata": {},
   "outputs": [
    {
     "name": "stdout",
     "output_type": "stream",
     "text": [
      "Congrats! You have enough money in this fund.\n"
     ]
    }
   ],
   "source": [
    "# portfolio bigger than emergency fund\n",
    "if total_portfolio > emergency_fund_value:\n",
    "    print(\"Congrats! You have enough money in this fund.\")\n",
    "# portfolio equal in size\n",
    "elif total_portfolio == emergency_fund_value:\n",
    "    print(\"Congrats on reaching this financial goal! You're portfolio matches your emergency fund!\")\n",
    "# portfolio size less than emergency fund\n",
    "else: \n",
    "    print(f\"Your emergency fund goal can be reached with ${(emergency_fund_value - total_portfolio):0.2f} more dollars\")"
   ]
  },
  {
   "cell_type": "markdown",
   "metadata": {},
   "source": [
    "## Part 2: Create a Financial Planner for Retirement"
   ]
  },
  {
   "cell_type": "markdown",
   "metadata": {},
   "source": [
    "### Create the Monte Carlo Simulation\n",
    "\n",
    "In this section, you’ll use the MCForecastTools library to create a Monte Carlo simulation for the member’s savings portfolio. To do this, complete the following steps:\n",
    "\n",
    "1. Make an API call via the Alpaca SDK to get 3 years of historical closing prices for a traditional 60/40 portfolio split: 60% stocks (SPY) and 40% bonds (AGG).\n",
    "\n",
    "2. Run a Monte Carlo simulation of 500 samples and 30 years for the 60/40 portfolio, and then plot the results.The following image shows the overlay line plot resulting from a simulation with these characteristics. However, because a random number generator is used to run each live Monte Carlo simulation, your image will differ slightly from this exact image:\n",
    "\n",
    "![A screenshot depicts the resulting plot.](Images/5-4-monte-carlo-line-plot.png)\n",
    "\n",
    "3. Plot the probability distribution of the Monte Carlo simulation. Plot the probability distribution of the Monte Carlo simulation. The following image shows the histogram plot resulting from a simulation with these characteristics. However, because a random number generator is used to run each live Monte Carlo simulation, your image will differ slightly from this exact image:\n",
    "\n",
    "![A screenshot depicts the histogram plot.](Images/5-4-monte-carlo-histogram.png)\n",
    "\n",
    "4. Generate the summary statistics for the Monte Carlo simulation.\n",
    "\n"
   ]
  },
  {
   "cell_type": "markdown",
   "metadata": {},
   "source": [
    "#### Step 1: Make an API call via the Alpaca SDK to get 3 years of historical closing prices for a traditional 60/40 portfolio split: 60% stocks (SPY) and 40% bonds (AGG)."
   ]
  },
  {
   "cell_type": "code",
   "execution_count": 222,
   "metadata": {},
   "outputs": [],
   "source": [
    "# start and end dates of 3 years back from 2022-01-27\n",
    "start_date_years = pd.Timestamp(\"2019-01-27\", tz = \"America/New_York\").isoformat() \n",
    "end_date_years = pd.Timestamp(\"2022-01-27\", tz = \"America/New_York\").isoformat() \n",
    "# max row amount\n",
    "limit_rows = 1000\n"
   ]
  },
  {
   "cell_type": "code",
   "execution_count": 278,
   "metadata": {},
   "outputs": [
    {
     "data": {
      "text/html": [
       "<div>\n",
       "<style scoped>\n",
       "    .dataframe tbody tr th:only-of-type {\n",
       "        vertical-align: middle;\n",
       "    }\n",
       "\n",
       "    .dataframe tbody tr th {\n",
       "        vertical-align: top;\n",
       "    }\n",
       "\n",
       "    .dataframe thead tr th {\n",
       "        text-align: left;\n",
       "    }\n",
       "\n",
       "    .dataframe thead tr:last-of-type th {\n",
       "        text-align: right;\n",
       "    }\n",
       "</style>\n",
       "<table border=\"1\" class=\"dataframe\">\n",
       "  <thead>\n",
       "    <tr>\n",
       "      <th></th>\n",
       "      <th colspan=\"5\" halign=\"left\">AGG</th>\n",
       "      <th colspan=\"5\" halign=\"left\">SPY</th>\n",
       "    </tr>\n",
       "    <tr>\n",
       "      <th></th>\n",
       "      <th>open</th>\n",
       "      <th>high</th>\n",
       "      <th>low</th>\n",
       "      <th>close</th>\n",
       "      <th>volume</th>\n",
       "      <th>open</th>\n",
       "      <th>high</th>\n",
       "      <th>low</th>\n",
       "      <th>close</th>\n",
       "      <th>volume</th>\n",
       "    </tr>\n",
       "    <tr>\n",
       "      <th>time</th>\n",
       "      <th></th>\n",
       "      <th></th>\n",
       "      <th></th>\n",
       "      <th></th>\n",
       "      <th></th>\n",
       "      <th></th>\n",
       "      <th></th>\n",
       "      <th></th>\n",
       "      <th></th>\n",
       "      <th></th>\n",
       "    </tr>\n",
       "  </thead>\n",
       "  <tbody>\n",
       "    <tr>\n",
       "      <th>2019-01-28 00:00:00-05:00</th>\n",
       "      <td>106.62</td>\n",
       "      <td>106.745</td>\n",
       "      <td>106.580</td>\n",
       "      <td>106.6550</td>\n",
       "      <td>6372589</td>\n",
       "      <td>263.39</td>\n",
       "      <td>263.82</td>\n",
       "      <td>261.79</td>\n",
       "      <td>263.6350</td>\n",
       "      <td>75207990</td>\n",
       "    </tr>\n",
       "    <tr>\n",
       "      <th>2019-01-29 00:00:00-05:00</th>\n",
       "      <td>106.73</td>\n",
       "      <td>106.910</td>\n",
       "      <td>106.685</td>\n",
       "      <td>106.9063</td>\n",
       "      <td>5399892</td>\n",
       "      <td>263.92</td>\n",
       "      <td>264.55</td>\n",
       "      <td>262.48</td>\n",
       "      <td>263.3100</td>\n",
       "      <td>54249161</td>\n",
       "    </tr>\n",
       "    <tr>\n",
       "      <th>2019-01-30 00:00:00-05:00</th>\n",
       "      <td>106.79</td>\n",
       "      <td>107.140</td>\n",
       "      <td>106.790</td>\n",
       "      <td>107.1400</td>\n",
       "      <td>4948983</td>\n",
       "      <td>265.10</td>\n",
       "      <td>268.52</td>\n",
       "      <td>264.25</td>\n",
       "      <td>267.4625</td>\n",
       "      <td>75091893</td>\n",
       "    </tr>\n",
       "    <tr>\n",
       "      <th>2019-01-31 00:00:00-05:00</th>\n",
       "      <td>107.30</td>\n",
       "      <td>107.530</td>\n",
       "      <td>107.290</td>\n",
       "      <td>107.4600</td>\n",
       "      <td>11394113</td>\n",
       "      <td>267.51</td>\n",
       "      <td>270.47</td>\n",
       "      <td>267.27</td>\n",
       "      <td>270.2325</td>\n",
       "      <td>73699733</td>\n",
       "    </tr>\n",
       "    <tr>\n",
       "      <th>2019-02-01 00:00:00-05:00</th>\n",
       "      <td>107.09</td>\n",
       "      <td>107.150</td>\n",
       "      <td>106.880</td>\n",
       "      <td>106.9600</td>\n",
       "      <td>5325410</td>\n",
       "      <td>270.15</td>\n",
       "      <td>271.20</td>\n",
       "      <td>269.18</td>\n",
       "      <td>270.0700</td>\n",
       "      <td>68194167</td>\n",
       "    </tr>\n",
       "  </tbody>\n",
       "</table>\n",
       "</div>"
      ],
      "text/plain": [
       "                              AGG                                        \\\n",
       "                             open     high      low     close    volume   \n",
       "time                                                                      \n",
       "2019-01-28 00:00:00-05:00  106.62  106.745  106.580  106.6550   6372589   \n",
       "2019-01-29 00:00:00-05:00  106.73  106.910  106.685  106.9063   5399892   \n",
       "2019-01-30 00:00:00-05:00  106.79  107.140  106.790  107.1400   4948983   \n",
       "2019-01-31 00:00:00-05:00  107.30  107.530  107.290  107.4600  11394113   \n",
       "2019-02-01 00:00:00-05:00  107.09  107.150  106.880  106.9600   5325410   \n",
       "\n",
       "                              SPY                                      \n",
       "                             open    high     low     close    volume  \n",
       "time                                                                   \n",
       "2019-01-28 00:00:00-05:00  263.39  263.82  261.79  263.6350  75207990  \n",
       "2019-01-29 00:00:00-05:00  263.92  264.55  262.48  263.3100  54249161  \n",
       "2019-01-30 00:00:00-05:00  265.10  268.52  264.25  267.4625  75091893  \n",
       "2019-01-31 00:00:00-05:00  267.51  270.47  267.27  270.2325  73699733  \n",
       "2019-02-01 00:00:00-05:00  270.15  271.20  269.18  270.0700  68194167  "
      ]
     },
     "metadata": {},
     "output_type": "display_data"
    },
    {
     "data": {
      "text/html": [
       "<div>\n",
       "<style scoped>\n",
       "    .dataframe tbody tr th:only-of-type {\n",
       "        vertical-align: middle;\n",
       "    }\n",
       "\n",
       "    .dataframe tbody tr th {\n",
       "        vertical-align: top;\n",
       "    }\n",
       "\n",
       "    .dataframe thead tr th {\n",
       "        text-align: left;\n",
       "    }\n",
       "\n",
       "    .dataframe thead tr:last-of-type th {\n",
       "        text-align: right;\n",
       "    }\n",
       "</style>\n",
       "<table border=\"1\" class=\"dataframe\">\n",
       "  <thead>\n",
       "    <tr>\n",
       "      <th></th>\n",
       "      <th colspan=\"5\" halign=\"left\">AGG</th>\n",
       "      <th colspan=\"5\" halign=\"left\">SPY</th>\n",
       "    </tr>\n",
       "    <tr>\n",
       "      <th></th>\n",
       "      <th>open</th>\n",
       "      <th>high</th>\n",
       "      <th>low</th>\n",
       "      <th>close</th>\n",
       "      <th>volume</th>\n",
       "      <th>open</th>\n",
       "      <th>high</th>\n",
       "      <th>low</th>\n",
       "      <th>close</th>\n",
       "      <th>volume</th>\n",
       "    </tr>\n",
       "    <tr>\n",
       "      <th>time</th>\n",
       "      <th></th>\n",
       "      <th></th>\n",
       "      <th></th>\n",
       "      <th></th>\n",
       "      <th></th>\n",
       "      <th></th>\n",
       "      <th></th>\n",
       "      <th></th>\n",
       "      <th></th>\n",
       "      <th></th>\n",
       "    </tr>\n",
       "  </thead>\n",
       "  <tbody>\n",
       "    <tr>\n",
       "      <th>2022-01-21 00:00:00-05:00</th>\n",
       "      <td>112.1900</td>\n",
       "      <td>112.35</td>\n",
       "      <td>112.11</td>\n",
       "      <td>112.24</td>\n",
       "      <td>7789076</td>\n",
       "      <td>445.56</td>\n",
       "      <td>448.06</td>\n",
       "      <td>437.97</td>\n",
       "      <td>438.11</td>\n",
       "      <td>174541931</td>\n",
       "    </tr>\n",
       "    <tr>\n",
       "      <th>2022-01-24 00:00:00-05:00</th>\n",
       "      <td>112.3814</td>\n",
       "      <td>112.42</td>\n",
       "      <td>112.10</td>\n",
       "      <td>112.12</td>\n",
       "      <td>10666672</td>\n",
       "      <td>432.03</td>\n",
       "      <td>440.38</td>\n",
       "      <td>420.76</td>\n",
       "      <td>439.88</td>\n",
       "      <td>233026938</td>\n",
       "    </tr>\n",
       "    <tr>\n",
       "      <th>2022-01-25 00:00:00-05:00</th>\n",
       "      <td>112.1800</td>\n",
       "      <td>112.30</td>\n",
       "      <td>111.96</td>\n",
       "      <td>112.00</td>\n",
       "      <td>9392367</td>\n",
       "      <td>433.06</td>\n",
       "      <td>439.72</td>\n",
       "      <td>364.68</td>\n",
       "      <td>434.51</td>\n",
       "      <td>148023735</td>\n",
       "    </tr>\n",
       "    <tr>\n",
       "      <th>2022-01-26 00:00:00-05:00</th>\n",
       "      <td>112.0600</td>\n",
       "      <td>112.13</td>\n",
       "      <td>111.36</td>\n",
       "      <td>111.36</td>\n",
       "      <td>10170465</td>\n",
       "      <td>440.72</td>\n",
       "      <td>444.04</td>\n",
       "      <td>428.86</td>\n",
       "      <td>433.45</td>\n",
       "      <td>174214548</td>\n",
       "    </tr>\n",
       "    <tr>\n",
       "      <th>2022-01-27 00:00:00-05:00</th>\n",
       "      <td>111.6200</td>\n",
       "      <td>111.88</td>\n",
       "      <td>111.62</td>\n",
       "      <td>111.72</td>\n",
       "      <td>5836124</td>\n",
       "      <td>438.26</td>\n",
       "      <td>441.58</td>\n",
       "      <td>429.45</td>\n",
       "      <td>431.27</td>\n",
       "      <td>136251597</td>\n",
       "    </tr>\n",
       "  </tbody>\n",
       "</table>\n",
       "</div>"
      ],
      "text/plain": [
       "                                AGG                                       SPY  \\\n",
       "                               open    high     low   close    volume    open   \n",
       "time                                                                            \n",
       "2022-01-21 00:00:00-05:00  112.1900  112.35  112.11  112.24   7789076  445.56   \n",
       "2022-01-24 00:00:00-05:00  112.3814  112.42  112.10  112.12  10666672  432.03   \n",
       "2022-01-25 00:00:00-05:00  112.1800  112.30  111.96  112.00   9392367  433.06   \n",
       "2022-01-26 00:00:00-05:00  112.0600  112.13  111.36  111.36  10170465  440.72   \n",
       "2022-01-27 00:00:00-05:00  111.6200  111.88  111.62  111.72   5836124  438.26   \n",
       "\n",
       "                                                              \n",
       "                             high     low   close     volume  \n",
       "time                                                          \n",
       "2022-01-21 00:00:00-05:00  448.06  437.97  438.11  174541931  \n",
       "2022-01-24 00:00:00-05:00  440.38  420.76  439.88  233026938  \n",
       "2022-01-25 00:00:00-05:00  439.72  364.68  434.51  148023735  \n",
       "2022-01-26 00:00:00-05:00  444.04  428.86  433.45  174214548  \n",
       "2022-01-27 00:00:00-05:00  441.58  429.45  431.27  136251597  "
      ]
     },
     "metadata": {},
     "output_type": "display_data"
    }
   ],
   "source": [
    "# Using Alpaca get_barset function to make the API call to get the 3 years worth of pricing data\n",
    "#parameters are tickers, timeframe, start, end, and limit\n",
    "# we add .df to the end\n",
    "prices_years_df = alpaca.get_barset(\n",
    "    tickers,\n",
    "    timeframe,\n",
    "    start=start_date_years,\n",
    "    end=end_date_years,\n",
    "    limit=limit_rows\n",
    ").df\n",
    "\n",
    "# Reviewing the first five rows of the resulting DataFrame \n",
    "prices_years_df.head()\n",
    "\n",
    "# Displaying both the first and last five rows of the DataFrame\n",
    "display(prices_years_df.head())\n",
    "display(prices_years_df.tail())"
   ]
  },
  {
   "cell_type": "markdown",
   "metadata": {},
   "source": [
    "#### Step 2: Run a Monte Carlo simulation of 500 samples and 30 years for the 60/40 portfolio, and then plot the results."
   ]
  },
  {
   "cell_type": "code",
   "execution_count": 240,
   "metadata": {},
   "outputs": [
    {
     "data": {
      "text/html": [
       "<div>\n",
       "<style scoped>\n",
       "    .dataframe tbody tr th:only-of-type {\n",
       "        vertical-align: middle;\n",
       "    }\n",
       "\n",
       "    .dataframe tbody tr th {\n",
       "        vertical-align: top;\n",
       "    }\n",
       "\n",
       "    .dataframe thead tr th {\n",
       "        text-align: left;\n",
       "    }\n",
       "\n",
       "    .dataframe thead tr:last-of-type th {\n",
       "        text-align: right;\n",
       "    }\n",
       "</style>\n",
       "<table border=\"1\" class=\"dataframe\">\n",
       "  <thead>\n",
       "    <tr>\n",
       "      <th></th>\n",
       "      <th colspan=\"6\" halign=\"left\">AGG</th>\n",
       "      <th colspan=\"6\" halign=\"left\">SPY</th>\n",
       "    </tr>\n",
       "    <tr>\n",
       "      <th></th>\n",
       "      <th>open</th>\n",
       "      <th>high</th>\n",
       "      <th>low</th>\n",
       "      <th>close</th>\n",
       "      <th>volume</th>\n",
       "      <th>daily_return</th>\n",
       "      <th>open</th>\n",
       "      <th>high</th>\n",
       "      <th>low</th>\n",
       "      <th>close</th>\n",
       "      <th>volume</th>\n",
       "      <th>daily_return</th>\n",
       "    </tr>\n",
       "    <tr>\n",
       "      <th>time</th>\n",
       "      <th></th>\n",
       "      <th></th>\n",
       "      <th></th>\n",
       "      <th></th>\n",
       "      <th></th>\n",
       "      <th></th>\n",
       "      <th></th>\n",
       "      <th></th>\n",
       "      <th></th>\n",
       "      <th></th>\n",
       "      <th></th>\n",
       "      <th></th>\n",
       "    </tr>\n",
       "  </thead>\n",
       "  <tbody>\n",
       "    <tr>\n",
       "      <th>2019-01-28 00:00:00-05:00</th>\n",
       "      <td>106.62</td>\n",
       "      <td>106.745</td>\n",
       "      <td>106.580</td>\n",
       "      <td>106.6550</td>\n",
       "      <td>6372589.0</td>\n",
       "      <td>NaN</td>\n",
       "      <td>263.39</td>\n",
       "      <td>263.82</td>\n",
       "      <td>261.79</td>\n",
       "      <td>263.6350</td>\n",
       "      <td>75207990</td>\n",
       "      <td>NaN</td>\n",
       "    </tr>\n",
       "    <tr>\n",
       "      <th>2019-01-29 00:00:00-05:00</th>\n",
       "      <td>106.73</td>\n",
       "      <td>106.910</td>\n",
       "      <td>106.685</td>\n",
       "      <td>106.9063</td>\n",
       "      <td>5399892.0</td>\n",
       "      <td>0.002356</td>\n",
       "      <td>263.92</td>\n",
       "      <td>264.55</td>\n",
       "      <td>262.48</td>\n",
       "      <td>263.3100</td>\n",
       "      <td>54249161</td>\n",
       "      <td>-0.001233</td>\n",
       "    </tr>\n",
       "    <tr>\n",
       "      <th>2019-01-30 00:00:00-05:00</th>\n",
       "      <td>106.79</td>\n",
       "      <td>107.140</td>\n",
       "      <td>106.790</td>\n",
       "      <td>107.1400</td>\n",
       "      <td>4948983.0</td>\n",
       "      <td>0.002186</td>\n",
       "      <td>265.10</td>\n",
       "      <td>268.52</td>\n",
       "      <td>264.25</td>\n",
       "      <td>267.4625</td>\n",
       "      <td>75091893</td>\n",
       "      <td>0.015770</td>\n",
       "    </tr>\n",
       "    <tr>\n",
       "      <th>2019-01-31 00:00:00-05:00</th>\n",
       "      <td>107.30</td>\n",
       "      <td>107.530</td>\n",
       "      <td>107.290</td>\n",
       "      <td>107.4600</td>\n",
       "      <td>11394113.0</td>\n",
       "      <td>0.002987</td>\n",
       "      <td>267.51</td>\n",
       "      <td>270.47</td>\n",
       "      <td>267.27</td>\n",
       "      <td>270.2325</td>\n",
       "      <td>73699733</td>\n",
       "      <td>0.010357</td>\n",
       "    </tr>\n",
       "    <tr>\n",
       "      <th>2019-02-01 00:00:00-05:00</th>\n",
       "      <td>107.09</td>\n",
       "      <td>107.150</td>\n",
       "      <td>106.880</td>\n",
       "      <td>106.9600</td>\n",
       "      <td>5325410.0</td>\n",
       "      <td>-0.004653</td>\n",
       "      <td>270.15</td>\n",
       "      <td>271.20</td>\n",
       "      <td>269.18</td>\n",
       "      <td>270.0700</td>\n",
       "      <td>68194167</td>\n",
       "      <td>-0.000601</td>\n",
       "    </tr>\n",
       "  </tbody>\n",
       "</table>\n",
       "</div>"
      ],
      "text/plain": [
       "                              AGG                                          \\\n",
       "                             open     high      low     close      volume   \n",
       "time                                                                        \n",
       "2019-01-28 00:00:00-05:00  106.62  106.745  106.580  106.6550   6372589.0   \n",
       "2019-01-29 00:00:00-05:00  106.73  106.910  106.685  106.9063   5399892.0   \n",
       "2019-01-30 00:00:00-05:00  106.79  107.140  106.790  107.1400   4948983.0   \n",
       "2019-01-31 00:00:00-05:00  107.30  107.530  107.290  107.4600  11394113.0   \n",
       "2019-02-01 00:00:00-05:00  107.09  107.150  106.880  106.9600   5325410.0   \n",
       "\n",
       "                                           SPY                            \\\n",
       "                          daily_return    open    high     low     close   \n",
       "time                                                                       \n",
       "2019-01-28 00:00:00-05:00          NaN  263.39  263.82  261.79  263.6350   \n",
       "2019-01-29 00:00:00-05:00     0.002356  263.92  264.55  262.48  263.3100   \n",
       "2019-01-30 00:00:00-05:00     0.002186  265.10  268.52  264.25  267.4625   \n",
       "2019-01-31 00:00:00-05:00     0.002987  267.51  270.47  267.27  270.2325   \n",
       "2019-02-01 00:00:00-05:00    -0.004653  270.15  271.20  269.18  270.0700   \n",
       "\n",
       "                                                  \n",
       "                             volume daily_return  \n",
       "time                                              \n",
       "2019-01-28 00:00:00-05:00  75207990          NaN  \n",
       "2019-01-29 00:00:00-05:00  54249161    -0.001233  \n",
       "2019-01-30 00:00:00-05:00  75091893     0.015770  \n",
       "2019-01-31 00:00:00-05:00  73699733     0.010357  \n",
       "2019-02-01 00:00:00-05:00  68194167    -0.000601  "
      ]
     },
     "execution_count": 240,
     "metadata": {},
     "output_type": "execute_result"
    }
   ],
   "source": [
    "# parameters of portfolio_data, weights, num_simulation, and num_trading_days aligned with prices_years_df\n",
    "# 500 samples and 30 years of data to simulate\n",
    "MC_years = MCSimulation(\n",
    "  portfolio_data = prices_years_df,\n",
    "  weights = [.40,.60],\n",
    "  num_simulation = 500,\n",
    "  num_trading_days = 252*30\n",
    ")\n",
    "# Reviewing the simulation input data\n",
    "\n",
    "MC_years.portfolio_data.head()"
   ]
  },
  {
   "cell_type": "code",
   "execution_count": 241,
   "metadata": {},
   "outputs": [
    {
     "name": "stdout",
     "output_type": "stream",
     "text": [
      "Running Monte Carlo simulation number 0.\n",
      "Running Monte Carlo simulation number 10.\n",
      "Running Monte Carlo simulation number 20.\n",
      "Running Monte Carlo simulation number 30.\n",
      "Running Monte Carlo simulation number 40.\n",
      "Running Monte Carlo simulation number 50.\n",
      "Running Monte Carlo simulation number 60.\n",
      "Running Monte Carlo simulation number 70.\n",
      "Running Monte Carlo simulation number 80.\n",
      "Running Monte Carlo simulation number 90.\n",
      "Running Monte Carlo simulation number 100.\n"
     ]
    },
    {
     "name": "stderr",
     "output_type": "stream",
     "text": [
      "C:\\Users\\ferre\\columbia\\challenges\\Module-Challenge-5\\MCForecastTools.py:117: PerformanceWarning: DataFrame is highly fragmented.  This is usually the result of calling `frame.insert` many times, which has poor performance.  Consider joining all columns at once using pd.concat(axis=1) instead.  To get a de-fragmented frame, use `newframe = frame.copy()`\n",
      "  portfolio_cumulative_returns[n] = (1 + sim_df.fillna(0)).cumprod()\n"
     ]
    },
    {
     "name": "stdout",
     "output_type": "stream",
     "text": [
      "Running Monte Carlo simulation number 110.\n",
      "Running Monte Carlo simulation number 120.\n",
      "Running Monte Carlo simulation number 130.\n",
      "Running Monte Carlo simulation number 140.\n",
      "Running Monte Carlo simulation number 150.\n",
      "Running Monte Carlo simulation number 160.\n",
      "Running Monte Carlo simulation number 170.\n",
      "Running Monte Carlo simulation number 180.\n",
      "Running Monte Carlo simulation number 190.\n",
      "Running Monte Carlo simulation number 200.\n",
      "Running Monte Carlo simulation number 210.\n",
      "Running Monte Carlo simulation number 220.\n",
      "Running Monte Carlo simulation number 230.\n",
      "Running Monte Carlo simulation number 240.\n",
      "Running Monte Carlo simulation number 250.\n",
      "Running Monte Carlo simulation number 260.\n",
      "Running Monte Carlo simulation number 270.\n",
      "Running Monte Carlo simulation number 280.\n",
      "Running Monte Carlo simulation number 290.\n",
      "Running Monte Carlo simulation number 300.\n",
      "Running Monte Carlo simulation number 310.\n",
      "Running Monte Carlo simulation number 320.\n",
      "Running Monte Carlo simulation number 330.\n",
      "Running Monte Carlo simulation number 340.\n",
      "Running Monte Carlo simulation number 350.\n",
      "Running Monte Carlo simulation number 360.\n",
      "Running Monte Carlo simulation number 370.\n",
      "Running Monte Carlo simulation number 380.\n",
      "Running Monte Carlo simulation number 390.\n",
      "Running Monte Carlo simulation number 400.\n",
      "Running Monte Carlo simulation number 410.\n",
      "Running Monte Carlo simulation number 420.\n",
      "Running Monte Carlo simulation number 430.\n",
      "Running Monte Carlo simulation number 440.\n",
      "Running Monte Carlo simulation number 450.\n",
      "Running Monte Carlo simulation number 460.\n",
      "Running Monte Carlo simulation number 470.\n",
      "Running Monte Carlo simulation number 480.\n",
      "Running Monte Carlo simulation number 490.\n"
     ]
    },
    {
     "data": {
      "text/html": [
       "<div>\n",
       "<style scoped>\n",
       "    .dataframe tbody tr th:only-of-type {\n",
       "        vertical-align: middle;\n",
       "    }\n",
       "\n",
       "    .dataframe tbody tr th {\n",
       "        vertical-align: top;\n",
       "    }\n",
       "\n",
       "    .dataframe thead th {\n",
       "        text-align: right;\n",
       "    }\n",
       "</style>\n",
       "<table border=\"1\" class=\"dataframe\">\n",
       "  <thead>\n",
       "    <tr style=\"text-align: right;\">\n",
       "      <th></th>\n",
       "      <th>0</th>\n",
       "      <th>1</th>\n",
       "      <th>2</th>\n",
       "      <th>3</th>\n",
       "      <th>4</th>\n",
       "      <th>5</th>\n",
       "      <th>6</th>\n",
       "      <th>7</th>\n",
       "      <th>8</th>\n",
       "      <th>9</th>\n",
       "      <th>...</th>\n",
       "      <th>490</th>\n",
       "      <th>491</th>\n",
       "      <th>492</th>\n",
       "      <th>493</th>\n",
       "      <th>494</th>\n",
       "      <th>495</th>\n",
       "      <th>496</th>\n",
       "      <th>497</th>\n",
       "      <th>498</th>\n",
       "      <th>499</th>\n",
       "    </tr>\n",
       "  </thead>\n",
       "  <tbody>\n",
       "    <tr>\n",
       "      <th>0</th>\n",
       "      <td>1.000000</td>\n",
       "      <td>1.000000</td>\n",
       "      <td>1.000000</td>\n",
       "      <td>1.000000</td>\n",
       "      <td>1.000000</td>\n",
       "      <td>1.000000</td>\n",
       "      <td>1.000000</td>\n",
       "      <td>1.000000</td>\n",
       "      <td>1.000000</td>\n",
       "      <td>1.000000</td>\n",
       "      <td>...</td>\n",
       "      <td>1.000000</td>\n",
       "      <td>1.000000</td>\n",
       "      <td>1.000000</td>\n",
       "      <td>1.000000</td>\n",
       "      <td>1.000000</td>\n",
       "      <td>1.000000</td>\n",
       "      <td>1.000000</td>\n",
       "      <td>1.000000</td>\n",
       "      <td>1.000000</td>\n",
       "      <td>1.000000</td>\n",
       "    </tr>\n",
       "    <tr>\n",
       "      <th>1</th>\n",
       "      <td>0.996799</td>\n",
       "      <td>0.996531</td>\n",
       "      <td>0.994801</td>\n",
       "      <td>0.992919</td>\n",
       "      <td>0.997448</td>\n",
       "      <td>0.978918</td>\n",
       "      <td>1.000332</td>\n",
       "      <td>1.000541</td>\n",
       "      <td>0.990526</td>\n",
       "      <td>1.003543</td>\n",
       "      <td>...</td>\n",
       "      <td>1.007807</td>\n",
       "      <td>0.994703</td>\n",
       "      <td>1.001510</td>\n",
       "      <td>0.988249</td>\n",
       "      <td>0.989920</td>\n",
       "      <td>0.995424</td>\n",
       "      <td>0.998665</td>\n",
       "      <td>0.996275</td>\n",
       "      <td>0.992635</td>\n",
       "      <td>0.990770</td>\n",
       "    </tr>\n",
       "    <tr>\n",
       "      <th>2</th>\n",
       "      <td>0.993223</td>\n",
       "      <td>0.996976</td>\n",
       "      <td>0.989335</td>\n",
       "      <td>0.994223</td>\n",
       "      <td>1.005262</td>\n",
       "      <td>0.979662</td>\n",
       "      <td>1.002162</td>\n",
       "      <td>0.996979</td>\n",
       "      <td>1.005295</td>\n",
       "      <td>1.005942</td>\n",
       "      <td>...</td>\n",
       "      <td>1.015803</td>\n",
       "      <td>1.000205</td>\n",
       "      <td>1.018490</td>\n",
       "      <td>0.984742</td>\n",
       "      <td>0.990349</td>\n",
       "      <td>0.986817</td>\n",
       "      <td>1.003704</td>\n",
       "      <td>0.987265</td>\n",
       "      <td>1.004169</td>\n",
       "      <td>0.970547</td>\n",
       "    </tr>\n",
       "    <tr>\n",
       "      <th>3</th>\n",
       "      <td>0.987168</td>\n",
       "      <td>1.000802</td>\n",
       "      <td>1.000812</td>\n",
       "      <td>1.009852</td>\n",
       "      <td>0.997585</td>\n",
       "      <td>0.984026</td>\n",
       "      <td>1.002486</td>\n",
       "      <td>1.004260</td>\n",
       "      <td>1.007274</td>\n",
       "      <td>1.006271</td>\n",
       "      <td>...</td>\n",
       "      <td>1.030753</td>\n",
       "      <td>1.000434</td>\n",
       "      <td>1.024999</td>\n",
       "      <td>0.985754</td>\n",
       "      <td>0.986391</td>\n",
       "      <td>0.988779</td>\n",
       "      <td>1.015447</td>\n",
       "      <td>0.979508</td>\n",
       "      <td>0.989783</td>\n",
       "      <td>0.966903</td>\n",
       "    </tr>\n",
       "    <tr>\n",
       "      <th>4</th>\n",
       "      <td>1.001204</td>\n",
       "      <td>1.008019</td>\n",
       "      <td>0.994889</td>\n",
       "      <td>1.008366</td>\n",
       "      <td>0.996074</td>\n",
       "      <td>0.992314</td>\n",
       "      <td>1.004266</td>\n",
       "      <td>0.999314</td>\n",
       "      <td>1.010807</td>\n",
       "      <td>1.007679</td>\n",
       "      <td>...</td>\n",
       "      <td>1.035306</td>\n",
       "      <td>1.000843</td>\n",
       "      <td>1.032330</td>\n",
       "      <td>0.983424</td>\n",
       "      <td>0.983702</td>\n",
       "      <td>0.991636</td>\n",
       "      <td>1.002445</td>\n",
       "      <td>0.970396</td>\n",
       "      <td>0.992106</td>\n",
       "      <td>0.954275</td>\n",
       "    </tr>\n",
       "    <tr>\n",
       "      <th>...</th>\n",
       "      <td>...</td>\n",
       "      <td>...</td>\n",
       "      <td>...</td>\n",
       "      <td>...</td>\n",
       "      <td>...</td>\n",
       "      <td>...</td>\n",
       "      <td>...</td>\n",
       "      <td>...</td>\n",
       "      <td>...</td>\n",
       "      <td>...</td>\n",
       "      <td>...</td>\n",
       "      <td>...</td>\n",
       "      <td>...</td>\n",
       "      <td>...</td>\n",
       "      <td>...</td>\n",
       "      <td>...</td>\n",
       "      <td>...</td>\n",
       "      <td>...</td>\n",
       "      <td>...</td>\n",
       "      <td>...</td>\n",
       "      <td>...</td>\n",
       "    </tr>\n",
       "    <tr>\n",
       "      <th>7556</th>\n",
       "      <td>77.353365</td>\n",
       "      <td>32.451392</td>\n",
       "      <td>50.724574</td>\n",
       "      <td>22.024735</td>\n",
       "      <td>21.640715</td>\n",
       "      <td>21.260021</td>\n",
       "      <td>26.184243</td>\n",
       "      <td>36.281579</td>\n",
       "      <td>22.011439</td>\n",
       "      <td>42.646863</td>\n",
       "      <td>...</td>\n",
       "      <td>64.133895</td>\n",
       "      <td>26.361353</td>\n",
       "      <td>62.537487</td>\n",
       "      <td>25.828031</td>\n",
       "      <td>35.337733</td>\n",
       "      <td>42.644058</td>\n",
       "      <td>30.923163</td>\n",
       "      <td>7.776820</td>\n",
       "      <td>124.743694</td>\n",
       "      <td>8.446650</td>\n",
       "    </tr>\n",
       "    <tr>\n",
       "      <th>7557</th>\n",
       "      <td>78.307501</td>\n",
       "      <td>32.575864</td>\n",
       "      <td>50.745488</td>\n",
       "      <td>22.281715</td>\n",
       "      <td>21.886994</td>\n",
       "      <td>20.739852</td>\n",
       "      <td>26.285732</td>\n",
       "      <td>36.217348</td>\n",
       "      <td>22.079647</td>\n",
       "      <td>43.565110</td>\n",
       "      <td>...</td>\n",
       "      <td>63.669074</td>\n",
       "      <td>26.100483</td>\n",
       "      <td>62.512478</td>\n",
       "      <td>26.027859</td>\n",
       "      <td>35.364373</td>\n",
       "      <td>43.193566</td>\n",
       "      <td>30.515000</td>\n",
       "      <td>7.826509</td>\n",
       "      <td>126.164151</td>\n",
       "      <td>8.406791</td>\n",
       "    </tr>\n",
       "    <tr>\n",
       "      <th>7558</th>\n",
       "      <td>77.417623</td>\n",
       "      <td>32.720722</td>\n",
       "      <td>50.938265</td>\n",
       "      <td>22.862007</td>\n",
       "      <td>21.708271</td>\n",
       "      <td>20.424923</td>\n",
       "      <td>26.212825</td>\n",
       "      <td>36.585407</td>\n",
       "      <td>21.926494</td>\n",
       "      <td>43.219822</td>\n",
       "      <td>...</td>\n",
       "      <td>63.195278</td>\n",
       "      <td>26.329432</td>\n",
       "      <td>62.318588</td>\n",
       "      <td>26.079504</td>\n",
       "      <td>35.512841</td>\n",
       "      <td>43.518466</td>\n",
       "      <td>30.640150</td>\n",
       "      <td>7.895998</td>\n",
       "      <td>123.945296</td>\n",
       "      <td>8.411005</td>\n",
       "    </tr>\n",
       "    <tr>\n",
       "      <th>7559</th>\n",
       "      <td>77.068470</td>\n",
       "      <td>32.597532</td>\n",
       "      <td>50.860495</td>\n",
       "      <td>22.641916</td>\n",
       "      <td>21.490755</td>\n",
       "      <td>20.528103</td>\n",
       "      <td>26.029071</td>\n",
       "      <td>36.784769</td>\n",
       "      <td>21.906536</td>\n",
       "      <td>43.041993</td>\n",
       "      <td>...</td>\n",
       "      <td>63.443617</td>\n",
       "      <td>26.318250</td>\n",
       "      <td>62.051268</td>\n",
       "      <td>26.160947</td>\n",
       "      <td>34.966271</td>\n",
       "      <td>42.841304</td>\n",
       "      <td>30.763450</td>\n",
       "      <td>7.970379</td>\n",
       "      <td>124.579909</td>\n",
       "      <td>8.442650</td>\n",
       "    </tr>\n",
       "    <tr>\n",
       "      <th>7560</th>\n",
       "      <td>75.990557</td>\n",
       "      <td>32.329660</td>\n",
       "      <td>51.623537</td>\n",
       "      <td>22.420888</td>\n",
       "      <td>21.720277</td>\n",
       "      <td>20.694750</td>\n",
       "      <td>26.418252</td>\n",
       "      <td>36.950944</td>\n",
       "      <td>21.946777</td>\n",
       "      <td>43.388791</td>\n",
       "      <td>...</td>\n",
       "      <td>62.762927</td>\n",
       "      <td>26.367841</td>\n",
       "      <td>62.324021</td>\n",
       "      <td>26.401257</td>\n",
       "      <td>34.814904</td>\n",
       "      <td>42.779727</td>\n",
       "      <td>30.687465</td>\n",
       "      <td>7.854611</td>\n",
       "      <td>125.542025</td>\n",
       "      <td>8.421420</td>\n",
       "    </tr>\n",
       "  </tbody>\n",
       "</table>\n",
       "<p>7561 rows × 500 columns</p>\n",
       "</div>"
      ],
      "text/plain": [
       "            0          1          2          3          4          5    \\\n",
       "0      1.000000   1.000000   1.000000   1.000000   1.000000   1.000000   \n",
       "1      0.996799   0.996531   0.994801   0.992919   0.997448   0.978918   \n",
       "2      0.993223   0.996976   0.989335   0.994223   1.005262   0.979662   \n",
       "3      0.987168   1.000802   1.000812   1.009852   0.997585   0.984026   \n",
       "4      1.001204   1.008019   0.994889   1.008366   0.996074   0.992314   \n",
       "...         ...        ...        ...        ...        ...        ...   \n",
       "7556  77.353365  32.451392  50.724574  22.024735  21.640715  21.260021   \n",
       "7557  78.307501  32.575864  50.745488  22.281715  21.886994  20.739852   \n",
       "7558  77.417623  32.720722  50.938265  22.862007  21.708271  20.424923   \n",
       "7559  77.068470  32.597532  50.860495  22.641916  21.490755  20.528103   \n",
       "7560  75.990557  32.329660  51.623537  22.420888  21.720277  20.694750   \n",
       "\n",
       "            6          7          8          9    ...        490        491  \\\n",
       "0      1.000000   1.000000   1.000000   1.000000  ...   1.000000   1.000000   \n",
       "1      1.000332   1.000541   0.990526   1.003543  ...   1.007807   0.994703   \n",
       "2      1.002162   0.996979   1.005295   1.005942  ...   1.015803   1.000205   \n",
       "3      1.002486   1.004260   1.007274   1.006271  ...   1.030753   1.000434   \n",
       "4      1.004266   0.999314   1.010807   1.007679  ...   1.035306   1.000843   \n",
       "...         ...        ...        ...        ...  ...        ...        ...   \n",
       "7556  26.184243  36.281579  22.011439  42.646863  ...  64.133895  26.361353   \n",
       "7557  26.285732  36.217348  22.079647  43.565110  ...  63.669074  26.100483   \n",
       "7558  26.212825  36.585407  21.926494  43.219822  ...  63.195278  26.329432   \n",
       "7559  26.029071  36.784769  21.906536  43.041993  ...  63.443617  26.318250   \n",
       "7560  26.418252  36.950944  21.946777  43.388791  ...  62.762927  26.367841   \n",
       "\n",
       "            492        493        494        495        496       497  \\\n",
       "0      1.000000   1.000000   1.000000   1.000000   1.000000  1.000000   \n",
       "1      1.001510   0.988249   0.989920   0.995424   0.998665  0.996275   \n",
       "2      1.018490   0.984742   0.990349   0.986817   1.003704  0.987265   \n",
       "3      1.024999   0.985754   0.986391   0.988779   1.015447  0.979508   \n",
       "4      1.032330   0.983424   0.983702   0.991636   1.002445  0.970396   \n",
       "...         ...        ...        ...        ...        ...       ...   \n",
       "7556  62.537487  25.828031  35.337733  42.644058  30.923163  7.776820   \n",
       "7557  62.512478  26.027859  35.364373  43.193566  30.515000  7.826509   \n",
       "7558  62.318588  26.079504  35.512841  43.518466  30.640150  7.895998   \n",
       "7559  62.051268  26.160947  34.966271  42.841304  30.763450  7.970379   \n",
       "7560  62.324021  26.401257  34.814904  42.779727  30.687465  7.854611   \n",
       "\n",
       "             498       499  \n",
       "0       1.000000  1.000000  \n",
       "1       0.992635  0.990770  \n",
       "2       1.004169  0.970547  \n",
       "3       0.989783  0.966903  \n",
       "4       0.992106  0.954275  \n",
       "...          ...       ...  \n",
       "7556  124.743694  8.446650  \n",
       "7557  126.164151  8.406791  \n",
       "7558  123.945296  8.411005  \n",
       "7559  124.579909  8.442650  \n",
       "7560  125.542025  8.421420  \n",
       "\n",
       "[7561 rows x 500 columns]"
      ]
     },
     "execution_count": 241,
     "metadata": {},
     "output_type": "execute_result"
    }
   ],
   "source": [
    "# cumulative returns for 30 year forecast\n",
    "MC_years.calc_cumulative_return() "
   ]
  },
  {
   "cell_type": "code",
   "execution_count": 242,
   "metadata": {},
   "outputs": [
    {
     "data": {
      "image/png": "[encoded data removed]",
      "text/plain": [
       "<Figure size 432x288 with 1 Axes>"
      ]
     },
     "metadata": {
      "needs_background": "light"
     },
     "output_type": "display_data"
    }
   ],
   "source": [
    "# line plot of 30 year simulation\n",
    "simulation_plot = MC_years.plot_simulation() "
   ]
  },
  {
   "cell_type": "markdown",
   "metadata": {},
   "source": [
    "#### Step 3: Plot the probability distribution of the Monte Carlo simulation."
   ]
  },
  {
   "cell_type": "code",
   "execution_count": 243,
   "metadata": {},
   "outputs": [
    {
     "data": {
      "image/png": "[encoded data removed]",
      "text/plain": [
       "<Figure size 432x288 with 1 Axes>"
      ]
     },
     "metadata": {
      "needs_background": "light"
     },
     "output_type": "display_data"
    }
   ],
   "source": [
    "# histogram distribution plot of the 30 year simulation\n",
    "distribution_plot = MC_years.plot_distribution() "
   ]
  },
  {
   "cell_type": "markdown",
   "metadata": {},
   "source": [
    "#### Step 4: Generate the summary statistics for the Monte Carlo simulation."
   ]
  },
  {
   "cell_type": "code",
   "execution_count": 244,
   "metadata": {},
   "outputs": [
    {
     "name": "stdout",
     "output_type": "stream",
     "text": [
      "count           500.000000\n",
      "mean             37.896873\n",
      "std              33.273655\n",
      "min               4.255613\n",
      "25%              17.091741\n",
      "50%              27.608778\n",
      "75%              48.212584\n",
      "max             219.474467\n",
      "95% CI Lower      6.784501\n",
      "95% CI Upper    127.772337\n",
      "Name: 7560, dtype: float64\n"
     ]
    }
   ],
   "source": [
    "# summary statistics generated in a table\n",
    "weight_table = MC_years.summarize_cumulative_return()\n",
    "\n",
    "# Printing the table of summary statistics\n",
    "print(weight_table) "
   ]
  },
  {
   "cell_type": "markdown",
   "metadata": {},
   "source": [
    "### Analyze the Retirement Portfolio Forecasts\n",
    "\n",
    "Using the current value of only the stock and bond portion of the member's portfolio and the summary statistics that you generated from the Monte Carlo simulation, answer the following question in your Jupyter notebook:\n",
    "\n",
    "-  What are the lower and upper bounds for the expected value of the portfolio with a 95% confidence interval?\n"
   ]
  },
  {
   "cell_type": "code",
   "execution_count": 245,
   "metadata": {},
   "outputs": [
    {
     "name": "stdout",
     "output_type": "stream",
     "text": [
      "69783.7\n"
     ]
    }
   ],
   "source": [
    "# current stocks/bonds portion\n",
    "print(total_stocks_bonds) "
   ]
  },
  {
   "cell_type": "code",
   "execution_count": 246,
   "metadata": {},
   "outputs": [
    {
     "name": "stdout",
     "output_type": "stream",
     "text": [
      "There is a 95% chance that an initial portfolio of $69783.7 with 40% bond weight and 60% stock weight will, after 30 years, end in the range of $473447.6 to $8916426.43.\n"
     ]
    }
   ],
   "source": [
    "# Using lower and upper `95%` confidence intervals to calculate the range of the possible outcomes\n",
    "# weight_table positions get 95% CI Lower and 95% CI Upper\n",
    "ci_lower_thirty_cumulative_return = round(weight_table[8]*total_stocks_bonds,2)\n",
    "ci_upper_thirty_cumulative_return = round(weight_table[9]*total_stocks_bonds,2)\n",
    "\n",
    "# Print statement displaying initial value, and projected cumulative returns within the CI\n",
    "print(f\"There is a 95% chance that an initial portfolio of ${total_stocks_bonds}\"\n",
    "      f\" with 40% bond weight and 60% stock weight will, after 30 years, end in the range of\"\n",
    "      f\" ${ci_lower_thirty_cumulative_return} to ${ci_upper_thirty_cumulative_return}.\") "
   ]
  },
  {
   "cell_type": "markdown",
   "metadata": {},
   "source": [
    "### Forecast Cumulative Returns in 10 Years\n",
    "\n",
    "The CTO of the credit union is impressed with your work on these planning tools but wonders if 30 years is a long time to wait until retirement. So, your next task is to adjust the retirement portfolio and run a new Monte Carlo simulation to find out if the changes will allow members to retire earlier.\n",
    "\n",
    "For this new Monte Carlo simulation, do the following: \n",
    "\n",
    "- Forecast the cumulative returns for 10 years from now. Because of the shortened investment horizon (30 years to 10 years), the portfolio needs to invest more heavily in the riskier asset&mdash;that is, stock&mdash;to help accumulate wealth for retirement. \n",
    "\n",
    "- Adjust the weights of the retirement portfolio so that the composition for the Monte Carlo simulation consists of 20% bonds and 80% stocks. \n",
    "\n",
    "- Run the simulation over 500 samples, and use the same data that the API call to Alpaca generated.\n",
    "\n",
    "- Based on the new Monte Carlo simulation, answer the following questions in your Jupyter notebook:\n",
    "\n",
    "    - Using the current value of only the stock and bond portion of the member's portfolio and the summary statistics that you generated from the new Monte Carlo simulation, what are the lower and upper bounds for the expected value of the portfolio (with the new weights) with a 95% confidence interval?\n",
    "\n",
    "    - Will weighting the portfolio more heavily toward stocks allow the credit union members to retire after only 10 years?\n"
   ]
  },
  {
   "cell_type": "code",
   "execution_count": 252,
   "metadata": {},
   "outputs": [
    {
     "data": {
      "text/html": [
       "<div>\n",
       "<style scoped>\n",
       "    .dataframe tbody tr th:only-of-type {\n",
       "        vertical-align: middle;\n",
       "    }\n",
       "\n",
       "    .dataframe tbody tr th {\n",
       "        vertical-align: top;\n",
       "    }\n",
       "\n",
       "    .dataframe thead tr th {\n",
       "        text-align: left;\n",
       "    }\n",
       "\n",
       "    .dataframe thead tr:last-of-type th {\n",
       "        text-align: right;\n",
       "    }\n",
       "</style>\n",
       "<table border=\"1\" class=\"dataframe\">\n",
       "  <thead>\n",
       "    <tr>\n",
       "      <th></th>\n",
       "      <th colspan=\"6\" halign=\"left\">AGG</th>\n",
       "      <th colspan=\"6\" halign=\"left\">SPY</th>\n",
       "    </tr>\n",
       "    <tr>\n",
       "      <th></th>\n",
       "      <th>open</th>\n",
       "      <th>high</th>\n",
       "      <th>low</th>\n",
       "      <th>close</th>\n",
       "      <th>volume</th>\n",
       "      <th>daily_return</th>\n",
       "      <th>open</th>\n",
       "      <th>high</th>\n",
       "      <th>low</th>\n",
       "      <th>close</th>\n",
       "      <th>volume</th>\n",
       "      <th>daily_return</th>\n",
       "    </tr>\n",
       "    <tr>\n",
       "      <th>time</th>\n",
       "      <th></th>\n",
       "      <th></th>\n",
       "      <th></th>\n",
       "      <th></th>\n",
       "      <th></th>\n",
       "      <th></th>\n",
       "      <th></th>\n",
       "      <th></th>\n",
       "      <th></th>\n",
       "      <th></th>\n",
       "      <th></th>\n",
       "      <th></th>\n",
       "    </tr>\n",
       "  </thead>\n",
       "  <tbody>\n",
       "    <tr>\n",
       "      <th>2019-01-28 00:00:00-05:00</th>\n",
       "      <td>106.62</td>\n",
       "      <td>106.745</td>\n",
       "      <td>106.580</td>\n",
       "      <td>106.6550</td>\n",
       "      <td>6372589</td>\n",
       "      <td>NaN</td>\n",
       "      <td>263.39</td>\n",
       "      <td>263.82</td>\n",
       "      <td>261.79</td>\n",
       "      <td>263.6350</td>\n",
       "      <td>75207990</td>\n",
       "      <td>NaN</td>\n",
       "    </tr>\n",
       "    <tr>\n",
       "      <th>2019-01-29 00:00:00-05:00</th>\n",
       "      <td>106.73</td>\n",
       "      <td>106.910</td>\n",
       "      <td>106.685</td>\n",
       "      <td>106.9063</td>\n",
       "      <td>5399892</td>\n",
       "      <td>0.002356</td>\n",
       "      <td>263.92</td>\n",
       "      <td>264.55</td>\n",
       "      <td>262.48</td>\n",
       "      <td>263.3100</td>\n",
       "      <td>54249161</td>\n",
       "      <td>-0.001233</td>\n",
       "    </tr>\n",
       "    <tr>\n",
       "      <th>2019-01-30 00:00:00-05:00</th>\n",
       "      <td>106.79</td>\n",
       "      <td>107.140</td>\n",
       "      <td>106.790</td>\n",
       "      <td>107.1400</td>\n",
       "      <td>4948983</td>\n",
       "      <td>0.002186</td>\n",
       "      <td>265.10</td>\n",
       "      <td>268.52</td>\n",
       "      <td>264.25</td>\n",
       "      <td>267.4625</td>\n",
       "      <td>75091893</td>\n",
       "      <td>0.015770</td>\n",
       "    </tr>\n",
       "    <tr>\n",
       "      <th>2019-01-31 00:00:00-05:00</th>\n",
       "      <td>107.30</td>\n",
       "      <td>107.530</td>\n",
       "      <td>107.290</td>\n",
       "      <td>107.4600</td>\n",
       "      <td>11394113</td>\n",
       "      <td>0.002987</td>\n",
       "      <td>267.51</td>\n",
       "      <td>270.47</td>\n",
       "      <td>267.27</td>\n",
       "      <td>270.2325</td>\n",
       "      <td>73699733</td>\n",
       "      <td>0.010357</td>\n",
       "    </tr>\n",
       "    <tr>\n",
       "      <th>2019-02-01 00:00:00-05:00</th>\n",
       "      <td>107.09</td>\n",
       "      <td>107.150</td>\n",
       "      <td>106.880</td>\n",
       "      <td>106.9600</td>\n",
       "      <td>5325410</td>\n",
       "      <td>-0.004653</td>\n",
       "      <td>270.15</td>\n",
       "      <td>271.20</td>\n",
       "      <td>269.18</td>\n",
       "      <td>270.0700</td>\n",
       "      <td>68194167</td>\n",
       "      <td>-0.000601</td>\n",
       "    </tr>\n",
       "  </tbody>\n",
       "</table>\n",
       "</div>"
      ],
      "text/plain": [
       "                              AGG                                        \\\n",
       "                             open     high      low     close    volume   \n",
       "time                                                                      \n",
       "2019-01-28 00:00:00-05:00  106.62  106.745  106.580  106.6550   6372589   \n",
       "2019-01-29 00:00:00-05:00  106.73  106.910  106.685  106.9063   5399892   \n",
       "2019-01-30 00:00:00-05:00  106.79  107.140  106.790  107.1400   4948983   \n",
       "2019-01-31 00:00:00-05:00  107.30  107.530  107.290  107.4600  11394113   \n",
       "2019-02-01 00:00:00-05:00  107.09  107.150  106.880  106.9600   5325410   \n",
       "\n",
       "                                           SPY                            \\\n",
       "                          daily_return    open    high     low     close   \n",
       "time                                                                       \n",
       "2019-01-28 00:00:00-05:00          NaN  263.39  263.82  261.79  263.6350   \n",
       "2019-01-29 00:00:00-05:00     0.002356  263.92  264.55  262.48  263.3100   \n",
       "2019-01-30 00:00:00-05:00     0.002186  265.10  268.52  264.25  267.4625   \n",
       "2019-01-31 00:00:00-05:00     0.002987  267.51  270.47  267.27  270.2325   \n",
       "2019-02-01 00:00:00-05:00    -0.004653  270.15  271.20  269.18  270.0700   \n",
       "\n",
       "                                                  \n",
       "                             volume daily_return  \n",
       "time                                              \n",
       "2019-01-28 00:00:00-05:00  75207990          NaN  \n",
       "2019-01-29 00:00:00-05:00  54249161    -0.001233  \n",
       "2019-01-30 00:00:00-05:00  75091893     0.015770  \n",
       "2019-01-31 00:00:00-05:00  73699733     0.010357  \n",
       "2019-02-01 00:00:00-05:00  68194167    -0.000601  "
      ]
     },
     "execution_count": 252,
     "metadata": {},
     "output_type": "execute_result"
    }
   ],
   "source": [
    "\n",
    "# using 3-year data from before for 10 year forecast\n",
    "prices_years_ten = prices_years_df\n",
    "# Reviewing the first five rows of the resulting DataFrame \n",
    "prices_years_ten.head()\n",
    "# 10-year forcast simulation with 20% bond and 80% stock weights\n",
    "MC_ten = MCSimulation(\n",
    "  portfolio_data = prices_years_ten,\n",
    "  weights = [.20,.80],\n",
    "  num_simulation = 500,\n",
    "  num_trading_days = 252*10\n",
    ")\n",
    "# Reviewing the simulation input data\n",
    "MC_ten.portfolio_data.head()\n"
   ]
  },
  {
   "cell_type": "code",
   "execution_count": 253,
   "metadata": {},
   "outputs": [
    {
     "name": "stdout",
     "output_type": "stream",
     "text": [
      "Running Monte Carlo simulation number 0.\n",
      "Running Monte Carlo simulation number 10.\n",
      "Running Monte Carlo simulation number 20.\n",
      "Running Monte Carlo simulation number 30.\n",
      "Running Monte Carlo simulation number 40.\n",
      "Running Monte Carlo simulation number 50.\n",
      "Running Monte Carlo simulation number 60.\n",
      "Running Monte Carlo simulation number 70.\n",
      "Running Monte Carlo simulation number 80.\n",
      "Running Monte Carlo simulation number 90.\n",
      "Running Monte Carlo simulation number 100.\n"
     ]
    },
    {
     "name": "stderr",
     "output_type": "stream",
     "text": [
      "C:\\Users\\ferre\\columbia\\challenges\\Module-Challenge-5\\MCForecastTools.py:117: PerformanceWarning: DataFrame is highly fragmented.  This is usually the result of calling `frame.insert` many times, which has poor performance.  Consider joining all columns at once using pd.concat(axis=1) instead.  To get a de-fragmented frame, use `newframe = frame.copy()`\n",
      "  portfolio_cumulative_returns[n] = (1 + sim_df.fillna(0)).cumprod()\n"
     ]
    },
    {
     "name": "stdout",
     "output_type": "stream",
     "text": [
      "Running Monte Carlo simulation number 110.\n",
      "Running Monte Carlo simulation number 120.\n",
      "Running Monte Carlo simulation number 130.\n",
      "Running Monte Carlo simulation number 140.\n",
      "Running Monte Carlo simulation number 150.\n",
      "Running Monte Carlo simulation number 160.\n",
      "Running Monte Carlo simulation number 170.\n",
      "Running Monte Carlo simulation number 180.\n",
      "Running Monte Carlo simulation number 190.\n",
      "Running Monte Carlo simulation number 200.\n",
      "Running Monte Carlo simulation number 210.\n",
      "Running Monte Carlo simulation number 220.\n",
      "Running Monte Carlo simulation number 230.\n",
      "Running Monte Carlo simulation number 240.\n",
      "Running Monte Carlo simulation number 250.\n",
      "Running Monte Carlo simulation number 260.\n",
      "Running Monte Carlo simulation number 270.\n",
      "Running Monte Carlo simulation number 280.\n",
      "Running Monte Carlo simulation number 290.\n",
      "Running Monte Carlo simulation number 300.\n",
      "Running Monte Carlo simulation number 310.\n",
      "Running Monte Carlo simulation number 320.\n",
      "Running Monte Carlo simulation number 330.\n",
      "Running Monte Carlo simulation number 340.\n",
      "Running Monte Carlo simulation number 350.\n",
      "Running Monte Carlo simulation number 360.\n",
      "Running Monte Carlo simulation number 370.\n",
      "Running Monte Carlo simulation number 380.\n",
      "Running Monte Carlo simulation number 390.\n",
      "Running Monte Carlo simulation number 400.\n",
      "Running Monte Carlo simulation number 410.\n",
      "Running Monte Carlo simulation number 420.\n",
      "Running Monte Carlo simulation number 430.\n",
      "Running Monte Carlo simulation number 440.\n",
      "Running Monte Carlo simulation number 450.\n",
      "Running Monte Carlo simulation number 460.\n",
      "Running Monte Carlo simulation number 470.\n",
      "Running Monte Carlo simulation number 480.\n",
      "Running Monte Carlo simulation number 490.\n"
     ]
    },
    {
     "data": {
      "text/html": [
       "<div>\n",
       "<style scoped>\n",
       "    .dataframe tbody tr th:only-of-type {\n",
       "        vertical-align: middle;\n",
       "    }\n",
       "\n",
       "    .dataframe tbody tr th {\n",
       "        vertical-align: top;\n",
       "    }\n",
       "\n",
       "    .dataframe thead th {\n",
       "        text-align: right;\n",
       "    }\n",
       "</style>\n",
       "<table border=\"1\" class=\"dataframe\">\n",
       "  <thead>\n",
       "    <tr style=\"text-align: right;\">\n",
       "      <th></th>\n",
       "      <th>0</th>\n",
       "      <th>1</th>\n",
       "      <th>2</th>\n",
       "      <th>3</th>\n",
       "      <th>4</th>\n",
       "      <th>5</th>\n",
       "      <th>6</th>\n",
       "      <th>7</th>\n",
       "      <th>8</th>\n",
       "      <th>9</th>\n",
       "      <th>...</th>\n",
       "      <th>490</th>\n",
       "      <th>491</th>\n",
       "      <th>492</th>\n",
       "      <th>493</th>\n",
       "      <th>494</th>\n",
       "      <th>495</th>\n",
       "      <th>496</th>\n",
       "      <th>497</th>\n",
       "      <th>498</th>\n",
       "      <th>499</th>\n",
       "    </tr>\n",
       "  </thead>\n",
       "  <tbody>\n",
       "    <tr>\n",
       "      <th>0</th>\n",
       "      <td>1.000000</td>\n",
       "      <td>1.000000</td>\n",
       "      <td>1.000000</td>\n",
       "      <td>1.000000</td>\n",
       "      <td>1.000000</td>\n",
       "      <td>1.000000</td>\n",
       "      <td>1.000000</td>\n",
       "      <td>1.000000</td>\n",
       "      <td>1.000000</td>\n",
       "      <td>1.000000</td>\n",
       "      <td>...</td>\n",
       "      <td>1.000000</td>\n",
       "      <td>1.000000</td>\n",
       "      <td>1.000000</td>\n",
       "      <td>1.000000</td>\n",
       "      <td>1.000000</td>\n",
       "      <td>1.000000</td>\n",
       "      <td>1.000000</td>\n",
       "      <td>1.000000</td>\n",
       "      <td>1.000000</td>\n",
       "      <td>1.000000</td>\n",
       "    </tr>\n",
       "    <tr>\n",
       "      <th>1</th>\n",
       "      <td>1.006486</td>\n",
       "      <td>1.019711</td>\n",
       "      <td>0.979546</td>\n",
       "      <td>0.989226</td>\n",
       "      <td>1.006747</td>\n",
       "      <td>0.997669</td>\n",
       "      <td>1.003660</td>\n",
       "      <td>0.989928</td>\n",
       "      <td>1.011372</td>\n",
       "      <td>0.982594</td>\n",
       "      <td>...</td>\n",
       "      <td>1.004665</td>\n",
       "      <td>1.006907</td>\n",
       "      <td>0.993595</td>\n",
       "      <td>1.005363</td>\n",
       "      <td>1.014786</td>\n",
       "      <td>0.995841</td>\n",
       "      <td>0.987935</td>\n",
       "      <td>0.997667</td>\n",
       "      <td>0.999475</td>\n",
       "      <td>0.998580</td>\n",
       "    </tr>\n",
       "    <tr>\n",
       "      <th>2</th>\n",
       "      <td>1.002845</td>\n",
       "      <td>1.024096</td>\n",
       "      <td>0.973334</td>\n",
       "      <td>0.977501</td>\n",
       "      <td>0.995447</td>\n",
       "      <td>0.997499</td>\n",
       "      <td>0.991039</td>\n",
       "      <td>0.997619</td>\n",
       "      <td>1.028887</td>\n",
       "      <td>0.977685</td>\n",
       "      <td>...</td>\n",
       "      <td>1.005293</td>\n",
       "      <td>1.005073</td>\n",
       "      <td>0.974348</td>\n",
       "      <td>1.023090</td>\n",
       "      <td>1.013460</td>\n",
       "      <td>1.004600</td>\n",
       "      <td>0.987443</td>\n",
       "      <td>1.009692</td>\n",
       "      <td>1.007799</td>\n",
       "      <td>1.014716</td>\n",
       "    </tr>\n",
       "    <tr>\n",
       "      <th>3</th>\n",
       "      <td>0.995284</td>\n",
       "      <td>1.021963</td>\n",
       "      <td>0.972497</td>\n",
       "      <td>0.968015</td>\n",
       "      <td>0.997478</td>\n",
       "      <td>1.000609</td>\n",
       "      <td>0.984149</td>\n",
       "      <td>0.993845</td>\n",
       "      <td>1.020118</td>\n",
       "      <td>0.980620</td>\n",
       "      <td>...</td>\n",
       "      <td>1.007321</td>\n",
       "      <td>1.014422</td>\n",
       "      <td>0.978747</td>\n",
       "      <td>1.021626</td>\n",
       "      <td>1.016319</td>\n",
       "      <td>1.005933</td>\n",
       "      <td>0.969633</td>\n",
       "      <td>1.004643</td>\n",
       "      <td>0.997845</td>\n",
       "      <td>1.015767</td>\n",
       "    </tr>\n",
       "    <tr>\n",
       "      <th>4</th>\n",
       "      <td>1.016606</td>\n",
       "      <td>1.032491</td>\n",
       "      <td>0.976605</td>\n",
       "      <td>0.961407</td>\n",
       "      <td>1.001352</td>\n",
       "      <td>0.997216</td>\n",
       "      <td>0.988116</td>\n",
       "      <td>0.990344</td>\n",
       "      <td>1.023496</td>\n",
       "      <td>0.973250</td>\n",
       "      <td>...</td>\n",
       "      <td>1.001622</td>\n",
       "      <td>1.002401</td>\n",
       "      <td>0.960397</td>\n",
       "      <td>1.026617</td>\n",
       "      <td>1.000728</td>\n",
       "      <td>1.022330</td>\n",
       "      <td>0.963383</td>\n",
       "      <td>1.011184</td>\n",
       "      <td>1.012308</td>\n",
       "      <td>1.010855</td>\n",
       "    </tr>\n",
       "    <tr>\n",
       "      <th>...</th>\n",
       "      <td>...</td>\n",
       "      <td>...</td>\n",
       "      <td>...</td>\n",
       "      <td>...</td>\n",
       "      <td>...</td>\n",
       "      <td>...</td>\n",
       "      <td>...</td>\n",
       "      <td>...</td>\n",
       "      <td>...</td>\n",
       "      <td>...</td>\n",
       "      <td>...</td>\n",
       "      <td>...</td>\n",
       "      <td>...</td>\n",
       "      <td>...</td>\n",
       "      <td>...</td>\n",
       "      <td>...</td>\n",
       "      <td>...</td>\n",
       "      <td>...</td>\n",
       "      <td>...</td>\n",
       "      <td>...</td>\n",
       "      <td>...</td>\n",
       "    </tr>\n",
       "    <tr>\n",
       "      <th>2516</th>\n",
       "      <td>3.063981</td>\n",
       "      <td>1.223739</td>\n",
       "      <td>1.768888</td>\n",
       "      <td>4.442539</td>\n",
       "      <td>2.161167</td>\n",
       "      <td>3.081638</td>\n",
       "      <td>3.691766</td>\n",
       "      <td>3.707363</td>\n",
       "      <td>2.901240</td>\n",
       "      <td>5.194530</td>\n",
       "      <td>...</td>\n",
       "      <td>3.463828</td>\n",
       "      <td>4.631806</td>\n",
       "      <td>8.118397</td>\n",
       "      <td>4.381445</td>\n",
       "      <td>7.052634</td>\n",
       "      <td>5.147421</td>\n",
       "      <td>2.316887</td>\n",
       "      <td>2.908447</td>\n",
       "      <td>6.518243</td>\n",
       "      <td>5.444510</td>\n",
       "    </tr>\n",
       "    <tr>\n",
       "      <th>2517</th>\n",
       "      <td>3.087887</td>\n",
       "      <td>1.229709</td>\n",
       "      <td>1.746996</td>\n",
       "      <td>4.344982</td>\n",
       "      <td>2.155194</td>\n",
       "      <td>3.068279</td>\n",
       "      <td>3.672090</td>\n",
       "      <td>3.680191</td>\n",
       "      <td>2.891401</td>\n",
       "      <td>5.229120</td>\n",
       "      <td>...</td>\n",
       "      <td>3.448988</td>\n",
       "      <td>4.664256</td>\n",
       "      <td>8.151525</td>\n",
       "      <td>4.403289</td>\n",
       "      <td>7.076537</td>\n",
       "      <td>5.221912</td>\n",
       "      <td>2.318442</td>\n",
       "      <td>2.880048</td>\n",
       "      <td>6.484205</td>\n",
       "      <td>5.467265</td>\n",
       "    </tr>\n",
       "    <tr>\n",
       "      <th>2518</th>\n",
       "      <td>3.059195</td>\n",
       "      <td>1.229703</td>\n",
       "      <td>1.746558</td>\n",
       "      <td>4.455617</td>\n",
       "      <td>2.160900</td>\n",
       "      <td>3.096047</td>\n",
       "      <td>3.718012</td>\n",
       "      <td>3.635075</td>\n",
       "      <td>2.947251</td>\n",
       "      <td>5.137977</td>\n",
       "      <td>...</td>\n",
       "      <td>3.508297</td>\n",
       "      <td>4.595179</td>\n",
       "      <td>8.158387</td>\n",
       "      <td>4.318260</td>\n",
       "      <td>7.155295</td>\n",
       "      <td>5.336140</td>\n",
       "      <td>2.379862</td>\n",
       "      <td>2.916925</td>\n",
       "      <td>6.624747</td>\n",
       "      <td>5.532201</td>\n",
       "    </tr>\n",
       "    <tr>\n",
       "      <th>2519</th>\n",
       "      <td>3.071594</td>\n",
       "      <td>1.231707</td>\n",
       "      <td>1.738717</td>\n",
       "      <td>4.447319</td>\n",
       "      <td>2.162418</td>\n",
       "      <td>3.122669</td>\n",
       "      <td>3.667744</td>\n",
       "      <td>3.641787</td>\n",
       "      <td>2.965408</td>\n",
       "      <td>5.034103</td>\n",
       "      <td>...</td>\n",
       "      <td>3.517309</td>\n",
       "      <td>4.639071</td>\n",
       "      <td>8.179301</td>\n",
       "      <td>4.388889</td>\n",
       "      <td>7.074257</td>\n",
       "      <td>5.313228</td>\n",
       "      <td>2.379392</td>\n",
       "      <td>3.006964</td>\n",
       "      <td>6.560617</td>\n",
       "      <td>5.635685</td>\n",
       "    </tr>\n",
       "    <tr>\n",
       "      <th>2520</th>\n",
       "      <td>3.103046</td>\n",
       "      <td>1.227720</td>\n",
       "      <td>1.733069</td>\n",
       "      <td>4.468846</td>\n",
       "      <td>2.134497</td>\n",
       "      <td>3.163559</td>\n",
       "      <td>3.652105</td>\n",
       "      <td>3.594303</td>\n",
       "      <td>3.004646</td>\n",
       "      <td>5.048054</td>\n",
       "      <td>...</td>\n",
       "      <td>3.509481</td>\n",
       "      <td>4.670659</td>\n",
       "      <td>8.098631</td>\n",
       "      <td>4.468603</td>\n",
       "      <td>7.162966</td>\n",
       "      <td>5.324858</td>\n",
       "      <td>2.384609</td>\n",
       "      <td>2.972938</td>\n",
       "      <td>6.361643</td>\n",
       "      <td>5.626232</td>\n",
       "    </tr>\n",
       "  </tbody>\n",
       "</table>\n",
       "<p>2521 rows × 500 columns</p>\n",
       "</div>"
      ],
      "text/plain": [
       "           0         1         2         3         4         5         6    \\\n",
       "0     1.000000  1.000000  1.000000  1.000000  1.000000  1.000000  1.000000   \n",
       "1     1.006486  1.019711  0.979546  0.989226  1.006747  0.997669  1.003660   \n",
       "2     1.002845  1.024096  0.973334  0.977501  0.995447  0.997499  0.991039   \n",
       "3     0.995284  1.021963  0.972497  0.968015  0.997478  1.000609  0.984149   \n",
       "4     1.016606  1.032491  0.976605  0.961407  1.001352  0.997216  0.988116   \n",
       "...        ...       ...       ...       ...       ...       ...       ...   \n",
       "2516  3.063981  1.223739  1.768888  4.442539  2.161167  3.081638  3.691766   \n",
       "2517  3.087887  1.229709  1.746996  4.344982  2.155194  3.068279  3.672090   \n",
       "2518  3.059195  1.229703  1.746558  4.455617  2.160900  3.096047  3.718012   \n",
       "2519  3.071594  1.231707  1.738717  4.447319  2.162418  3.122669  3.667744   \n",
       "2520  3.103046  1.227720  1.733069  4.468846  2.134497  3.163559  3.652105   \n",
       "\n",
       "           7         8         9    ...       490       491       492  \\\n",
       "0     1.000000  1.000000  1.000000  ...  1.000000  1.000000  1.000000   \n",
       "1     0.989928  1.011372  0.982594  ...  1.004665  1.006907  0.993595   \n",
       "2     0.997619  1.028887  0.977685  ...  1.005293  1.005073  0.974348   \n",
       "3     0.993845  1.020118  0.980620  ...  1.007321  1.014422  0.978747   \n",
       "4     0.990344  1.023496  0.973250  ...  1.001622  1.002401  0.960397   \n",
       "...        ...       ...       ...  ...       ...       ...       ...   \n",
       "2516  3.707363  2.901240  5.194530  ...  3.463828  4.631806  8.118397   \n",
       "2517  3.680191  2.891401  5.229120  ...  3.448988  4.664256  8.151525   \n",
       "2518  3.635075  2.947251  5.137977  ...  3.508297  4.595179  8.158387   \n",
       "2519  3.641787  2.965408  5.034103  ...  3.517309  4.639071  8.179301   \n",
       "2520  3.594303  3.004646  5.048054  ...  3.509481  4.670659  8.098631   \n",
       "\n",
       "           493       494       495       496       497       498       499  \n",
       "0     1.000000  1.000000  1.000000  1.000000  1.000000  1.000000  1.000000  \n",
       "1     1.005363  1.014786  0.995841  0.987935  0.997667  0.999475  0.998580  \n",
       "2     1.023090  1.013460  1.004600  0.987443  1.009692  1.007799  1.014716  \n",
       "3     1.021626  1.016319  1.005933  0.969633  1.004643  0.997845  1.015767  \n",
       "4     1.026617  1.000728  1.022330  0.963383  1.011184  1.012308  1.010855  \n",
       "...        ...       ...       ...       ...       ...       ...       ...  \n",
       "2516  4.381445  7.052634  5.147421  2.316887  2.908447  6.518243  5.444510  \n",
       "2517  4.403289  7.076537  5.221912  2.318442  2.880048  6.484205  5.467265  \n",
       "2518  4.318260  7.155295  5.336140  2.379862  2.916925  6.624747  5.532201  \n",
       "2519  4.388889  7.074257  5.313228  2.379392  3.006964  6.560617  5.635685  \n",
       "2520  4.468603  7.162966  5.324858  2.384609  2.972938  6.361643  5.626232  \n",
       "\n",
       "[2521 rows x 500 columns]"
      ]
     },
     "execution_count": 253,
     "metadata": {},
     "output_type": "execute_result"
    }
   ],
   "source": [
    "# 10-yr cumulative return calculation \n",
    "MC_ten.calc_cumulative_return() "
   ]
  },
  {
   "cell_type": "code",
   "execution_count": 254,
   "metadata": {},
   "outputs": [
    {
     "data": {
      "image/png": "[encoded data removed]",
      "text/plain": [
       "<Figure size 432x288 with 1 Axes>"
      ]
     },
     "metadata": {
      "needs_background": "light"
     },
     "output_type": "display_data"
    }
   ],
   "source": [
    "# 10-year forecast overlay line plot\n",
    "ten_simulation = MC_ten.plot_simulation()"
   ]
  },
  {
   "cell_type": "code",
   "execution_count": 255,
   "metadata": {},
   "outputs": [
    {
     "data": {
      "image/png": "[encoded data removed]",
      "text/plain": [
       "<Figure size 432x288 with 1 Axes>"
      ]
     },
     "metadata": {
      "needs_background": "light"
     },
     "output_type": "display_data"
    }
   ],
   "source": [
    "# 10-yer forecast distribution histogram chart \n",
    "ten_distribution = MC_ten.plot_distribution() "
   ]
  },
  {
   "cell_type": "code",
   "execution_count": 256,
   "metadata": {},
   "outputs": [
    {
     "name": "stdout",
     "output_type": "stream",
     "text": [
      "count           500.000000\n",
      "mean              4.628400\n",
      "std               2.540074\n",
      "min               0.922109\n",
      "25%               2.764796\n",
      "50%               4.076459\n",
      "75%               5.964307\n",
      "max              15.387456\n",
      "95% CI Lower      1.375179\n",
      "95% CI Upper     10.974302\n",
      "Name: 2520, dtype: float64\n"
     ]
    }
   ],
   "source": [
    "# 10-yr forecast summary statistics generated and printed\n",
    "ten_table = MC_ten.summarize_cumulative_return()\n",
    "print(ten_table)\n"
   ]
  },
  {
   "cell_type": "markdown",
   "metadata": {},
   "source": [
    "### Answer the following questions:"
   ]
  },
  {
   "cell_type": "markdown",
   "metadata": {},
   "source": [
    "#### Question: Using the current value of only the stock and bond portion of the member's portfolio and the summary statistics that you generated from the new Monte Carlo simulation, what are the lower and upper bounds for the expected value of the portfolio (with the new weights) with a 95% confidence interval?"
   ]
  },
  {
   "cell_type": "code",
   "execution_count": 257,
   "metadata": {},
   "outputs": [
    {
     "name": "stdout",
     "output_type": "stream",
     "text": [
      "69783.7\n"
     ]
    }
   ],
   "source": [
    "# current balance of the stock and bond portion of the members portfolio\n",
    "\n",
    "print(total_stocks_bonds)"
   ]
  },
  {
   "cell_type": "code",
   "execution_count": 258,
   "metadata": {},
   "outputs": [
    {
     "name": "stdout",
     "output_type": "stream",
     "text": [
      "There is a 95% chance that an initial portfolio of $69783.7 with 20% bond weight and 80% stock weight will, after 10 years, end in the range of $95965.11 and $765827.39.\n"
     ]
    }
   ],
   "source": [
    "# Using the lower and upper `95%` confidence intervals for 10-yr forecast\n",
    "ci_lower_ten_cumulative_return = round(ten_table[8]*total_stocks_bonds,2)\n",
    "ci_upper_ten_cumulative_return = round(ten_table[9]*total_stocks_bonds,2)\n",
    "\n",
    "# detailed print statement for current balance and CI range projections\n",
    "print(f\"There is a 95% chance that an initial portfolio of ${total_stocks_bonds}\"\n",
    "      f\" with 20% bond weight and 80% stock weight will, after 10 years, end in the range of\"\n",
    "      f\" ${ci_lower_ten_cumulative_return} and ${ci_upper_ten_cumulative_return}.\") "
   ]
  },
  {
   "cell_type": "markdown",
   "metadata": {},
   "source": [
    "#### Question: Will weighting the portfolio more heavily to stocks allow the credit union members to retire after only 10 years?"
   ]
  },
  {
   "cell_type": "raw",
   "metadata": {},
   "source": [
    "**Answer** I will first make three assumptions based on the info given: The credit union members are approx. 35 (30 years from standard retirement), don't actively contribute to the portfolio during the 10 years (buy & hold only), and consistently make 12,000/month ($144k/yr).\n",
    "\n",
    "Based on the upper and lower CI, with 95% confidence the members would return $95,965.11 to $765,827.39. From our assumptions, the members would be 45 at retirement previously living off of $144k/yr. That being said, with an average living age of 80 and living costs in places such as New York, I do not think the members will have enough to retire after only 10 years, even with reaching the upper 95% CI.  "
   ]
  },
  {
   "cell_type": "code",
   "execution_count": null,
   "metadata": {},
   "outputs": [],
   "source": []
  }
 ],
 "metadata": {
  "kernelspec": {
   "display_name": "Python 3 (ipykernel)",
   "language": "python",
   "name": "python3"
  },
  "language_info": {
   "codemirror_mode": {
    "name": "ipython",
    "version": 3
   },
   "file_extension": ".py",
   "mimetype": "text/x-python",
   "name": "python",
   "nbconvert_exporter": "python",
   "pygments_lexer": "ipython3",
   "version": "3.9.7"
  }
 },
 "nbformat": 4,
 "nbformat_minor": 4
}
